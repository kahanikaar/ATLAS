{
 "cells": [
  {
   "cell_type": "code",
   "execution_count": 1,
   "metadata": {},
   "outputs": [],
   "source": [
    "#Fixing the number of columns for consideriung all the objects per event and not skipping any rows.\n",
    "columns=[]\n",
    "for i in range(21):\n",
    "    columns.append(str(i))"
   ]
  },
  {
   "cell_type": "markdown",
   "metadata": {},
   "source": [
    "Reading data from the CSV file, with delimiter as ';' as data for events are stored in the format of event ID; process ID; event weight; MET; METphi; obj1, E1, pt1, eta1, phi1; obj2,\n",
    "E2, pt2, eta2, phi2; . . . and filling the missing values with 0"
   ]
  },
  {
   "cell_type": "code",
   "execution_count": 2,
   "metadata": {},
   "outputs": [
    {
     "name": "stdout",
     "output_type": "stream",
     "text": [
      "        0                         1         2          3         4  \\\n",
      "0     354  monojet_Zp2000.0_DM_50.0  0.000024   832841.0 -1.224310   \n",
      "1     354  monojet_Zp2000.0_DM_50.0  0.000024   732115.0  1.172450   \n",
      "2     354  monojet_Zp2000.0_DM_50.0  0.000024  1056280.0 -3.067440   \n",
      "3     354  monojet_Zp2000.0_DM_50.0  0.000024   631781.0  1.641810   \n",
      "4     354  monojet_Zp2000.0_DM_50.0  0.000024   457316.0 -1.875360   \n",
      "...   ...                       ...       ...        ...       ...   \n",
      "6394  354  monojet_Zp2000.0_DM_50.0  0.000024   914355.0  1.529030   \n",
      "6395  354  monojet_Zp2000.0_DM_50.0  0.000024   782256.0 -1.207510   \n",
      "6396  354  monojet_Zp2000.0_DM_50.0  0.000024   645619.0 -2.483990   \n",
      "6397  354  monojet_Zp2000.0_DM_50.0  0.000024   632390.0 -0.975687   \n",
      "6398  354  monojet_Zp2000.0_DM_50.0  0.000024   820060.0 -0.043785   \n",
      "\n",
      "                                                5  \\\n",
      "0               b,947383,824498,-0.523103,1.64421   \n",
      "1          j,1.06946e+06,751597,0.858186,-1.84217   \n",
      "2                j,676000,640429,0.33045,0.704554   \n",
      "3               j,936707,616229,0.973383,-1.56592   \n",
      "4                j,640313,589524,0.390749,1.23734   \n",
      "...                                           ...   \n",
      "6394  j,1.11994e+06,1.01269e+06,0.453265,-1.77278   \n",
      "6395         j,1.91509e+06,874869,1.41855,1.83927   \n",
      "6396             j,787964,263158,1.75981,0.456786   \n",
      "6397            j,731849,722541,-0.134499,2.56393   \n",
      "6398           j,893689,742040,-0.618057,-3.10466   \n",
      "\n",
      "                                          6  \\\n",
      "0          j,258722,243675,0.328962,2.25014   \n",
      "1           j,457647,110079,2.10287,2.17501   \n",
      "2     j,1.2393e+06,602104,1.34324,-0.550856   \n",
      "3        j,75998,52304.3,0.905489,-0.806736   \n",
      "4          j,332790,126272,1.61998,-1.85524   \n",
      "...                                     ...   \n",
      "6394     b,246762,95229.6,1.60511,-0.520258   \n",
      "6395     j,156224,152161,-0.222571,-1.83395   \n",
      "6396        j,408087,258903,-1.0269,1.53073   \n",
      "6397      j,268828,259144,0.153813,0.578428   \n",
      "6398     j,107526,106995,-0.0485649,2.43606   \n",
      "\n",
      "                                            7  \\\n",
      "0            j,520092,108590,-2.2473,-1.85679   \n",
      "1          j,49649.1,30875.2,-1.03189,-1.7992   \n",
      "2         j,193865,44825.7,-2.14231,-0.965933   \n",
      "3                                           0   \n",
      "4                                           0   \n",
      "...                                       ...   \n",
      "6394         j,402070,77864.5,2.32445,0.92948   \n",
      "6395        j,102296,64861.3,1.02478,0.412515   \n",
      "6396  j,1.42801e+06,204716,-2.63018,-0.253528   \n",
      "6397       j,153340,43931.5,1.92014,-0.237382   \n",
      "6398                                        0   \n",
      "\n",
      "                                         8  \\\n",
      "0        j,383024,88405.6,2.14516,-1.95635   \n",
      "1                                        0   \n",
      "2     j,28217.2,24926.6,-0.454264,0.516676   \n",
      "3                                        0   \n",
      "4                                        0   \n",
      "...                                    ...   \n",
      "6394    j,74709.2,69979.3,0.359168,0.94458   \n",
      "6395     j,421972,37149.5,-3.12086,2.50949   \n",
      "6396   j,75924.4,63520.6,-0.586197,0.84639   \n",
      "6397                                     0   \n",
      "6398                                     0   \n",
      "\n",
      "                                        9  ...  \\\n",
      "0      j,39507.6,35365.1,0.47046,-1.16445  ...   \n",
      "1                                       0  ...   \n",
      "2                                       0  ...   \n",
      "3                                       0  ...   \n",
      "4                                       0  ...   \n",
      "...                                   ...  ...   \n",
      "6394                                    0  ...   \n",
      "6395                                    0  ...   \n",
      "6396  j,54710.9,47683.2,0.527799,-1.58165  ...   \n",
      "6397                                    0  ...   \n",
      "6398                                    0  ...   \n",
      "\n",
      "                                     11                                   12  \\\n",
      "0                                     0                                    0   \n",
      "1                                     0                                    0   \n",
      "2                                     0                                    0   \n",
      "3                                     0                                    0   \n",
      "4                                     0                                    0   \n",
      "...                                 ...                                  ...   \n",
      "6394                                  0                                    0   \n",
      "6395                                  0                                    0   \n",
      "6396  j,170938,28409.1,-2.47968,2.38334  j,43035.2,26973.3,-1.02803,0.105967   \n",
      "6397                                  0                                    0   \n",
      "6398                                  0                                    0   \n",
      "\n",
      "     13 14 15 16   17   18   19   20  \n",
      "0     0  0  0  0  0.0  0.0  0.0  0.0  \n",
      "1     0  0  0  0  0.0  0.0  0.0  0.0  \n",
      "2     0  0  0  0  0.0  0.0  0.0  0.0  \n",
      "3     0  0  0  0  0.0  0.0  0.0  0.0  \n",
      "4     0  0  0  0  0.0  0.0  0.0  0.0  \n",
      "...  .. .. .. ..  ...  ...  ...  ...  \n",
      "6394  0  0  0  0  0.0  0.0  0.0  0.0  \n",
      "6395  0  0  0  0  0.0  0.0  0.0  0.0  \n",
      "6396  0  0  0  0  0.0  0.0  0.0  0.0  \n",
      "6397  0  0  0  0  0.0  0.0  0.0  0.0  \n",
      "6398  0  0  0  0  0.0  0.0  0.0  0.0  \n",
      "\n",
      "[6399 rows x 21 columns]\n"
     ]
    }
   ],
   "source": [
    "import pandas as pd \n",
    "import io \n",
    "  \n",
    "df = pd.read_csv('monojet_Zp2000.0_DM_50.0_chan3.csv', header=None, delimiter=';',error_bad_lines=False, names=columns).fillna(0)\n",
    "print(df)"
   ]
  },
  {
   "cell_type": "code",
   "execution_count": 3,
   "metadata": {
    "scrolled": false
   },
   "outputs": [
    {
     "data": {
      "text/html": [
       "<div>\n",
       "<style scoped>\n",
       "    .dataframe tbody tr th:only-of-type {\n",
       "        vertical-align: middle;\n",
       "    }\n",
       "\n",
       "    .dataframe tbody tr th {\n",
       "        vertical-align: top;\n",
       "    }\n",
       "\n",
       "    .dataframe thead th {\n",
       "        text-align: right;\n",
       "    }\n",
       "</style>\n",
       "<table border=\"1\" class=\"dataframe\">\n",
       "  <thead>\n",
       "    <tr style=\"text-align: right;\">\n",
       "      <th></th>\n",
       "      <th>0</th>\n",
       "      <th>1</th>\n",
       "      <th>2</th>\n",
       "      <th>3</th>\n",
       "      <th>4</th>\n",
       "      <th>5</th>\n",
       "      <th>6</th>\n",
       "      <th>7</th>\n",
       "      <th>8</th>\n",
       "      <th>9</th>\n",
       "      <th>...</th>\n",
       "      <th>11</th>\n",
       "      <th>12</th>\n",
       "      <th>13</th>\n",
       "      <th>14</th>\n",
       "      <th>15</th>\n",
       "      <th>16</th>\n",
       "      <th>17</th>\n",
       "      <th>18</th>\n",
       "      <th>19</th>\n",
       "      <th>20</th>\n",
       "    </tr>\n",
       "  </thead>\n",
       "  <tbody>\n",
       "    <tr>\n",
       "      <th>0</th>\n",
       "      <td>354</td>\n",
       "      <td>monojet_Zp2000.0_DM_50.0</td>\n",
       "      <td>0.000024</td>\n",
       "      <td>832841.0</td>\n",
       "      <td>-1.224310</td>\n",
       "      <td>b,947383,824498,-0.523103,1.64421</td>\n",
       "      <td>j,258722,243675,0.328962,2.25014</td>\n",
       "      <td>j,520092,108590,-2.2473,-1.85679</td>\n",
       "      <td>j,383024,88405.6,2.14516,-1.95635</td>\n",
       "      <td>j,39507.6,35365.1,0.47046,-1.16445</td>\n",
       "      <td>...</td>\n",
       "      <td>0</td>\n",
       "      <td>0</td>\n",
       "      <td>0</td>\n",
       "      <td>0</td>\n",
       "      <td>0</td>\n",
       "      <td>0</td>\n",
       "      <td>0.0</td>\n",
       "      <td>0.0</td>\n",
       "      <td>0.0</td>\n",
       "      <td>0.0</td>\n",
       "    </tr>\n",
       "    <tr>\n",
       "      <th>1</th>\n",
       "      <td>354</td>\n",
       "      <td>monojet_Zp2000.0_DM_50.0</td>\n",
       "      <td>0.000024</td>\n",
       "      <td>732115.0</td>\n",
       "      <td>1.172450</td>\n",
       "      <td>j,1.06946e+06,751597,0.858186,-1.84217</td>\n",
       "      <td>j,457647,110079,2.10287,2.17501</td>\n",
       "      <td>j,49649.1,30875.2,-1.03189,-1.7992</td>\n",
       "      <td>0</td>\n",
       "      <td>0</td>\n",
       "      <td>...</td>\n",
       "      <td>0</td>\n",
       "      <td>0</td>\n",
       "      <td>0</td>\n",
       "      <td>0</td>\n",
       "      <td>0</td>\n",
       "      <td>0</td>\n",
       "      <td>0.0</td>\n",
       "      <td>0.0</td>\n",
       "      <td>0.0</td>\n",
       "      <td>0.0</td>\n",
       "    </tr>\n",
       "    <tr>\n",
       "      <th>2</th>\n",
       "      <td>354</td>\n",
       "      <td>monojet_Zp2000.0_DM_50.0</td>\n",
       "      <td>0.000024</td>\n",
       "      <td>1056280.0</td>\n",
       "      <td>-3.067440</td>\n",
       "      <td>j,676000,640429,0.33045,0.704554</td>\n",
       "      <td>j,1.2393e+06,602104,1.34324,-0.550856</td>\n",
       "      <td>j,193865,44825.7,-2.14231,-0.965933</td>\n",
       "      <td>j,28217.2,24926.6,-0.454264,0.516676</td>\n",
       "      <td>0</td>\n",
       "      <td>...</td>\n",
       "      <td>0</td>\n",
       "      <td>0</td>\n",
       "      <td>0</td>\n",
       "      <td>0</td>\n",
       "      <td>0</td>\n",
       "      <td>0</td>\n",
       "      <td>0.0</td>\n",
       "      <td>0.0</td>\n",
       "      <td>0.0</td>\n",
       "      <td>0.0</td>\n",
       "    </tr>\n",
       "    <tr>\n",
       "      <th>3</th>\n",
       "      <td>354</td>\n",
       "      <td>monojet_Zp2000.0_DM_50.0</td>\n",
       "      <td>0.000024</td>\n",
       "      <td>631781.0</td>\n",
       "      <td>1.641810</td>\n",
       "      <td>j,936707,616229,0.973383,-1.56592</td>\n",
       "      <td>j,75998,52304.3,0.905489,-0.806736</td>\n",
       "      <td>0</td>\n",
       "      <td>0</td>\n",
       "      <td>0</td>\n",
       "      <td>...</td>\n",
       "      <td>0</td>\n",
       "      <td>0</td>\n",
       "      <td>0</td>\n",
       "      <td>0</td>\n",
       "      <td>0</td>\n",
       "      <td>0</td>\n",
       "      <td>0.0</td>\n",
       "      <td>0.0</td>\n",
       "      <td>0.0</td>\n",
       "      <td>0.0</td>\n",
       "    </tr>\n",
       "    <tr>\n",
       "      <th>4</th>\n",
       "      <td>354</td>\n",
       "      <td>monojet_Zp2000.0_DM_50.0</td>\n",
       "      <td>0.000024</td>\n",
       "      <td>457316.0</td>\n",
       "      <td>-1.875360</td>\n",
       "      <td>j,640313,589524,0.390749,1.23734</td>\n",
       "      <td>j,332790,126272,1.61998,-1.85524</td>\n",
       "      <td>0</td>\n",
       "      <td>0</td>\n",
       "      <td>0</td>\n",
       "      <td>...</td>\n",
       "      <td>0</td>\n",
       "      <td>0</td>\n",
       "      <td>0</td>\n",
       "      <td>0</td>\n",
       "      <td>0</td>\n",
       "      <td>0</td>\n",
       "      <td>0.0</td>\n",
       "      <td>0.0</td>\n",
       "      <td>0.0</td>\n",
       "      <td>0.0</td>\n",
       "    </tr>\n",
       "    <tr>\n",
       "      <th>...</th>\n",
       "      <td>...</td>\n",
       "      <td>...</td>\n",
       "      <td>...</td>\n",
       "      <td>...</td>\n",
       "      <td>...</td>\n",
       "      <td>...</td>\n",
       "      <td>...</td>\n",
       "      <td>...</td>\n",
       "      <td>...</td>\n",
       "      <td>...</td>\n",
       "      <td>...</td>\n",
       "      <td>...</td>\n",
       "      <td>...</td>\n",
       "      <td>...</td>\n",
       "      <td>...</td>\n",
       "      <td>...</td>\n",
       "      <td>...</td>\n",
       "      <td>...</td>\n",
       "      <td>...</td>\n",
       "      <td>...</td>\n",
       "      <td>...</td>\n",
       "    </tr>\n",
       "    <tr>\n",
       "      <th>6394</th>\n",
       "      <td>354</td>\n",
       "      <td>monojet_Zp2000.0_DM_50.0</td>\n",
       "      <td>0.000024</td>\n",
       "      <td>914355.0</td>\n",
       "      <td>1.529030</td>\n",
       "      <td>j,1.11994e+06,1.01269e+06,0.453265,-1.77278</td>\n",
       "      <td>b,246762,95229.6,1.60511,-0.520258</td>\n",
       "      <td>j,402070,77864.5,2.32445,0.92948</td>\n",
       "      <td>j,74709.2,69979.3,0.359168,0.94458</td>\n",
       "      <td>0</td>\n",
       "      <td>...</td>\n",
       "      <td>0</td>\n",
       "      <td>0</td>\n",
       "      <td>0</td>\n",
       "      <td>0</td>\n",
       "      <td>0</td>\n",
       "      <td>0</td>\n",
       "      <td>0.0</td>\n",
       "      <td>0.0</td>\n",
       "      <td>0.0</td>\n",
       "      <td>0.0</td>\n",
       "    </tr>\n",
       "    <tr>\n",
       "      <th>6395</th>\n",
       "      <td>354</td>\n",
       "      <td>monojet_Zp2000.0_DM_50.0</td>\n",
       "      <td>0.000024</td>\n",
       "      <td>782256.0</td>\n",
       "      <td>-1.207510</td>\n",
       "      <td>j,1.91509e+06,874869,1.41855,1.83927</td>\n",
       "      <td>j,156224,152161,-0.222571,-1.83395</td>\n",
       "      <td>j,102296,64861.3,1.02478,0.412515</td>\n",
       "      <td>j,421972,37149.5,-3.12086,2.50949</td>\n",
       "      <td>0</td>\n",
       "      <td>...</td>\n",
       "      <td>0</td>\n",
       "      <td>0</td>\n",
       "      <td>0</td>\n",
       "      <td>0</td>\n",
       "      <td>0</td>\n",
       "      <td>0</td>\n",
       "      <td>0.0</td>\n",
       "      <td>0.0</td>\n",
       "      <td>0.0</td>\n",
       "      <td>0.0</td>\n",
       "    </tr>\n",
       "    <tr>\n",
       "      <th>6396</th>\n",
       "      <td>354</td>\n",
       "      <td>monojet_Zp2000.0_DM_50.0</td>\n",
       "      <td>0.000024</td>\n",
       "      <td>645619.0</td>\n",
       "      <td>-2.483990</td>\n",
       "      <td>j,787964,263158,1.75981,0.456786</td>\n",
       "      <td>j,408087,258903,-1.0269,1.53073</td>\n",
       "      <td>j,1.42801e+06,204716,-2.63018,-0.253528</td>\n",
       "      <td>j,75924.4,63520.6,-0.586197,0.84639</td>\n",
       "      <td>j,54710.9,47683.2,0.527799,-1.58165</td>\n",
       "      <td>...</td>\n",
       "      <td>j,170938,28409.1,-2.47968,2.38334</td>\n",
       "      <td>j,43035.2,26973.3,-1.02803,0.105967</td>\n",
       "      <td>0</td>\n",
       "      <td>0</td>\n",
       "      <td>0</td>\n",
       "      <td>0</td>\n",
       "      <td>0.0</td>\n",
       "      <td>0.0</td>\n",
       "      <td>0.0</td>\n",
       "      <td>0.0</td>\n",
       "    </tr>\n",
       "    <tr>\n",
       "      <th>6397</th>\n",
       "      <td>354</td>\n",
       "      <td>monojet_Zp2000.0_DM_50.0</td>\n",
       "      <td>0.000024</td>\n",
       "      <td>632390.0</td>\n",
       "      <td>-0.975687</td>\n",
       "      <td>j,731849,722541,-0.134499,2.56393</td>\n",
       "      <td>j,268828,259144,0.153813,0.578428</td>\n",
       "      <td>j,153340,43931.5,1.92014,-0.237382</td>\n",
       "      <td>0</td>\n",
       "      <td>0</td>\n",
       "      <td>...</td>\n",
       "      <td>0</td>\n",
       "      <td>0</td>\n",
       "      <td>0</td>\n",
       "      <td>0</td>\n",
       "      <td>0</td>\n",
       "      <td>0</td>\n",
       "      <td>0.0</td>\n",
       "      <td>0.0</td>\n",
       "      <td>0.0</td>\n",
       "      <td>0.0</td>\n",
       "    </tr>\n",
       "    <tr>\n",
       "      <th>6398</th>\n",
       "      <td>354</td>\n",
       "      <td>monojet_Zp2000.0_DM_50.0</td>\n",
       "      <td>0.000024</td>\n",
       "      <td>820060.0</td>\n",
       "      <td>-0.043785</td>\n",
       "      <td>j,893689,742040,-0.618057,-3.10466</td>\n",
       "      <td>j,107526,106995,-0.0485649,2.43606</td>\n",
       "      <td>0</td>\n",
       "      <td>0</td>\n",
       "      <td>0</td>\n",
       "      <td>...</td>\n",
       "      <td>0</td>\n",
       "      <td>0</td>\n",
       "      <td>0</td>\n",
       "      <td>0</td>\n",
       "      <td>0</td>\n",
       "      <td>0</td>\n",
       "      <td>0.0</td>\n",
       "      <td>0.0</td>\n",
       "      <td>0.0</td>\n",
       "      <td>0.0</td>\n",
       "    </tr>\n",
       "  </tbody>\n",
       "</table>\n",
       "<p>6399 rows × 21 columns</p>\n",
       "</div>"
      ],
      "text/plain": [
       "        0                         1         2          3         4  \\\n",
       "0     354  monojet_Zp2000.0_DM_50.0  0.000024   832841.0 -1.224310   \n",
       "1     354  monojet_Zp2000.0_DM_50.0  0.000024   732115.0  1.172450   \n",
       "2     354  monojet_Zp2000.0_DM_50.0  0.000024  1056280.0 -3.067440   \n",
       "3     354  monojet_Zp2000.0_DM_50.0  0.000024   631781.0  1.641810   \n",
       "4     354  monojet_Zp2000.0_DM_50.0  0.000024   457316.0 -1.875360   \n",
       "...   ...                       ...       ...        ...       ...   \n",
       "6394  354  monojet_Zp2000.0_DM_50.0  0.000024   914355.0  1.529030   \n",
       "6395  354  monojet_Zp2000.0_DM_50.0  0.000024   782256.0 -1.207510   \n",
       "6396  354  monojet_Zp2000.0_DM_50.0  0.000024   645619.0 -2.483990   \n",
       "6397  354  monojet_Zp2000.0_DM_50.0  0.000024   632390.0 -0.975687   \n",
       "6398  354  monojet_Zp2000.0_DM_50.0  0.000024   820060.0 -0.043785   \n",
       "\n",
       "                                                5  \\\n",
       "0               b,947383,824498,-0.523103,1.64421   \n",
       "1          j,1.06946e+06,751597,0.858186,-1.84217   \n",
       "2                j,676000,640429,0.33045,0.704554   \n",
       "3               j,936707,616229,0.973383,-1.56592   \n",
       "4                j,640313,589524,0.390749,1.23734   \n",
       "...                                           ...   \n",
       "6394  j,1.11994e+06,1.01269e+06,0.453265,-1.77278   \n",
       "6395         j,1.91509e+06,874869,1.41855,1.83927   \n",
       "6396             j,787964,263158,1.75981,0.456786   \n",
       "6397            j,731849,722541,-0.134499,2.56393   \n",
       "6398           j,893689,742040,-0.618057,-3.10466   \n",
       "\n",
       "                                          6  \\\n",
       "0          j,258722,243675,0.328962,2.25014   \n",
       "1           j,457647,110079,2.10287,2.17501   \n",
       "2     j,1.2393e+06,602104,1.34324,-0.550856   \n",
       "3        j,75998,52304.3,0.905489,-0.806736   \n",
       "4          j,332790,126272,1.61998,-1.85524   \n",
       "...                                     ...   \n",
       "6394     b,246762,95229.6,1.60511,-0.520258   \n",
       "6395     j,156224,152161,-0.222571,-1.83395   \n",
       "6396        j,408087,258903,-1.0269,1.53073   \n",
       "6397      j,268828,259144,0.153813,0.578428   \n",
       "6398     j,107526,106995,-0.0485649,2.43606   \n",
       "\n",
       "                                            7  \\\n",
       "0            j,520092,108590,-2.2473,-1.85679   \n",
       "1          j,49649.1,30875.2,-1.03189,-1.7992   \n",
       "2         j,193865,44825.7,-2.14231,-0.965933   \n",
       "3                                           0   \n",
       "4                                           0   \n",
       "...                                       ...   \n",
       "6394         j,402070,77864.5,2.32445,0.92948   \n",
       "6395        j,102296,64861.3,1.02478,0.412515   \n",
       "6396  j,1.42801e+06,204716,-2.63018,-0.253528   \n",
       "6397       j,153340,43931.5,1.92014,-0.237382   \n",
       "6398                                        0   \n",
       "\n",
       "                                         8  \\\n",
       "0        j,383024,88405.6,2.14516,-1.95635   \n",
       "1                                        0   \n",
       "2     j,28217.2,24926.6,-0.454264,0.516676   \n",
       "3                                        0   \n",
       "4                                        0   \n",
       "...                                    ...   \n",
       "6394    j,74709.2,69979.3,0.359168,0.94458   \n",
       "6395     j,421972,37149.5,-3.12086,2.50949   \n",
       "6396   j,75924.4,63520.6,-0.586197,0.84639   \n",
       "6397                                     0   \n",
       "6398                                     0   \n",
       "\n",
       "                                        9  ...  \\\n",
       "0      j,39507.6,35365.1,0.47046,-1.16445  ...   \n",
       "1                                       0  ...   \n",
       "2                                       0  ...   \n",
       "3                                       0  ...   \n",
       "4                                       0  ...   \n",
       "...                                   ...  ...   \n",
       "6394                                    0  ...   \n",
       "6395                                    0  ...   \n",
       "6396  j,54710.9,47683.2,0.527799,-1.58165  ...   \n",
       "6397                                    0  ...   \n",
       "6398                                    0  ...   \n",
       "\n",
       "                                     11                                   12  \\\n",
       "0                                     0                                    0   \n",
       "1                                     0                                    0   \n",
       "2                                     0                                    0   \n",
       "3                                     0                                    0   \n",
       "4                                     0                                    0   \n",
       "...                                 ...                                  ...   \n",
       "6394                                  0                                    0   \n",
       "6395                                  0                                    0   \n",
       "6396  j,170938,28409.1,-2.47968,2.38334  j,43035.2,26973.3,-1.02803,0.105967   \n",
       "6397                                  0                                    0   \n",
       "6398                                  0                                    0   \n",
       "\n",
       "     13 14 15 16   17   18   19   20  \n",
       "0     0  0  0  0  0.0  0.0  0.0  0.0  \n",
       "1     0  0  0  0  0.0  0.0  0.0  0.0  \n",
       "2     0  0  0  0  0.0  0.0  0.0  0.0  \n",
       "3     0  0  0  0  0.0  0.0  0.0  0.0  \n",
       "4     0  0  0  0  0.0  0.0  0.0  0.0  \n",
       "...  .. .. .. ..  ...  ...  ...  ...  \n",
       "6394  0  0  0  0  0.0  0.0  0.0  0.0  \n",
       "6395  0  0  0  0  0.0  0.0  0.0  0.0  \n",
       "6396  0  0  0  0  0.0  0.0  0.0  0.0  \n",
       "6397  0  0  0  0  0.0  0.0  0.0  0.0  \n",
       "6398  0  0  0  0  0.0  0.0  0.0  0.0  \n",
       "\n",
       "[6399 rows x 21 columns]"
      ]
     },
     "execution_count": 3,
     "metadata": {},
     "output_type": "execute_result"
    }
   ],
   "source": [
    "#Raw dataset\n",
    "df"
   ]
  },
  {
   "cell_type": "markdown",
   "metadata": {},
   "source": [
    "#### Processing dataset step\n",
    "Iterating over the rows of raw dataset, checking every object from 5th column, as before that the cells have values of event ID; process ID; event weight; MET; METphi;\n",
    "Checking if per event we have more than one object of jet-type and then forming the processes dataset."
   ]
  },
  {
   "cell_type": "code",
   "execution_count": 4,
   "metadata": {},
   "outputs": [],
   "source": [
    "row_count,col_count=df.shape\n",
    "\n",
    "data=pd.DataFrame(columns = [ 'E', 'pt', 'eta', 'phi'])\n",
    "\n",
    "for i in range(row_count):\n",
    "    for j in range(5,21):\n",
    "        val=str(df.iloc[i,j]).split(\",\")                   #spliting the dataframe cell value to form the list\n",
    "        if(val[0]=='j'):                                   #checking whether object is of j-type\n",
    "            data = data.append({'E'  :  float(val[1]),     #appending processed dataset with the values\n",
    "                                'pt' :  float(val[2]), \n",
    "                                'eta':  float(val[3]),\n",
    "                                'phi':  float(val[4])},  \n",
    "                                 ignore_index = True) \n",
    "\n"
   ]
  },
  {
   "cell_type": "markdown",
   "metadata": {},
   "source": [
    "Random sampling of training and testing dataset, divided into 90% as training data and remaining as testing data\n"
   ]
  },
  {
   "cell_type": "code",
   "execution_count": 5,
   "metadata": {},
   "outputs": [
    {
     "name": "stdout",
     "output_type": "stream",
     "text": [
      "Entries in the train dataset 18129\n",
      "Entries in the test dataset 4532\n"
     ]
    }
   ],
   "source": [
    "train = data.sample(frac = 0.80) \n",
    "test = data.drop(train.index) \n",
    "print(\"Entries in the train dataset\",  len(train))\n",
    "print(\"Entries in the test dataset\",  len(test))\n"
   ]
  },
  {
   "cell_type": "code",
   "execution_count": 6,
   "metadata": {},
   "outputs": [
    {
     "data": {
      "text/html": [
       "<div>\n",
       "<style scoped>\n",
       "    .dataframe tbody tr th:only-of-type {\n",
       "        vertical-align: middle;\n",
       "    }\n",
       "\n",
       "    .dataframe tbody tr th {\n",
       "        vertical-align: top;\n",
       "    }\n",
       "\n",
       "    .dataframe thead th {\n",
       "        text-align: right;\n",
       "    }\n",
       "</style>\n",
       "<table border=\"1\" class=\"dataframe\">\n",
       "  <thead>\n",
       "    <tr style=\"text-align: right;\">\n",
       "      <th></th>\n",
       "      <th>E</th>\n",
       "      <th>pt</th>\n",
       "      <th>eta</th>\n",
       "      <th>phi</th>\n",
       "    </tr>\n",
       "  </thead>\n",
       "  <tbody>\n",
       "    <tr>\n",
       "      <th>12118</th>\n",
       "      <td>861641.0</td>\n",
       "      <td>136454.0</td>\n",
       "      <td>2.528230</td>\n",
       "      <td>2.512610</td>\n",
       "    </tr>\n",
       "    <tr>\n",
       "      <th>17554</th>\n",
       "      <td>451350.0</td>\n",
       "      <td>328189.0</td>\n",
       "      <td>-0.838312</td>\n",
       "      <td>0.896084</td>\n",
       "    </tr>\n",
       "    <tr>\n",
       "      <th>10272</th>\n",
       "      <td>147311.0</td>\n",
       "      <td>64521.0</td>\n",
       "      <td>1.461740</td>\n",
       "      <td>2.853030</td>\n",
       "    </tr>\n",
       "    <tr>\n",
       "      <th>11629</th>\n",
       "      <td>161362.0</td>\n",
       "      <td>157579.0</td>\n",
       "      <td>0.131905</td>\n",
       "      <td>1.080720</td>\n",
       "    </tr>\n",
       "    <tr>\n",
       "      <th>12982</th>\n",
       "      <td>88947.7</td>\n",
       "      <td>29112.3</td>\n",
       "      <td>-1.778780</td>\n",
       "      <td>-2.917130</td>\n",
       "    </tr>\n",
       "    <tr>\n",
       "      <th>...</th>\n",
       "      <td>...</td>\n",
       "      <td>...</td>\n",
       "      <td>...</td>\n",
       "      <td>...</td>\n",
       "    </tr>\n",
       "    <tr>\n",
       "      <th>7172</th>\n",
       "      <td>556442.0</td>\n",
       "      <td>359830.0</td>\n",
       "      <td>-0.994519</td>\n",
       "      <td>0.277920</td>\n",
       "    </tr>\n",
       "    <tr>\n",
       "      <th>16092</th>\n",
       "      <td>80198.2</td>\n",
       "      <td>78159.4</td>\n",
       "      <td>-0.142626</td>\n",
       "      <td>-1.314150</td>\n",
       "    </tr>\n",
       "    <tr>\n",
       "      <th>17918</th>\n",
       "      <td>268570.0</td>\n",
       "      <td>23098.5</td>\n",
       "      <td>-3.144470</td>\n",
       "      <td>-1.679570</td>\n",
       "    </tr>\n",
       "    <tr>\n",
       "      <th>9838</th>\n",
       "      <td>673585.0</td>\n",
       "      <td>666944.0</td>\n",
       "      <td>-0.131951</td>\n",
       "      <td>-2.106510</td>\n",
       "    </tr>\n",
       "    <tr>\n",
       "      <th>14510</th>\n",
       "      <td>118422.0</td>\n",
       "      <td>112328.0</td>\n",
       "      <td>-0.311966</td>\n",
       "      <td>-2.821370</td>\n",
       "    </tr>\n",
       "  </tbody>\n",
       "</table>\n",
       "<p>18129 rows × 4 columns</p>\n",
       "</div>"
      ],
      "text/plain": [
       "              E        pt       eta       phi\n",
       "12118  861641.0  136454.0  2.528230  2.512610\n",
       "17554  451350.0  328189.0 -0.838312  0.896084\n",
       "10272  147311.0   64521.0  1.461740  2.853030\n",
       "11629  161362.0  157579.0  0.131905  1.080720\n",
       "12982   88947.7   29112.3 -1.778780 -2.917130\n",
       "...         ...       ...       ...       ...\n",
       "7172   556442.0  359830.0 -0.994519  0.277920\n",
       "16092   80198.2   78159.4 -0.142626 -1.314150\n",
       "17918  268570.0   23098.5 -3.144470 -1.679570\n",
       "9838   673585.0  666944.0 -0.131951 -2.106510\n",
       "14510  118422.0  112328.0 -0.311966 -2.821370\n",
       "\n",
       "[18129 rows x 4 columns]"
      ]
     },
     "execution_count": 6,
     "metadata": {},
     "output_type": "execute_result"
    }
   ],
   "source": [
    "train"
   ]
  },
  {
   "cell_type": "markdown",
   "metadata": {},
   "source": [
    "Plotting the data using Matplot library for the objects present."
   ]
  },
  {
   "cell_type": "code",
   "execution_count": 7,
   "metadata": {
    "scrolled": false
   },
   "outputs": [
    {
     "data": {
      "image/png": "[encoded data removed]",
      "text/plain": [
       "<Figure size 432x288 with 1 Axes>"
      ]
     },
     "metadata": {
      "needs_background": "light"
     },
     "output_type": "display_data"
    },
    {
     "data": {
      "image/png": "[encoded data removed]",
      "text/plain": [
       "<Figure size 432x288 with 1 Axes>"
      ]
     },
     "metadata": {
      "needs_background": "light"
     },
     "output_type": "display_data"
    },
    {
     "data": {
      "image/png": "[encoded data removed]",
      "text/plain": [
       "<Figure size 432x288 with 1 Axes>"
      ]
     },
     "metadata": {
      "needs_background": "light"
     },
     "output_type": "display_data"
    },
    {
     "data": {
      "image/png": "[encoded data removed]",
      "text/plain": [
       "<Figure size 432x288 with 1 Axes>"
      ]
     },
     "metadata": {
      "needs_background": "light"
     },
     "output_type": "display_data"
    }
   ],
   "source": [
    "import os\n",
    "save_dir = \"plotOutput\"\n",
    "if not os.path.exists(save_dir):\n",
    "    os.makedirs(save_dir)\n",
    "import numpy as np\n",
    "import matplotlib.pyplot as plt\n",
    "\n",
    "unit_list = ['[log(GeV)]', '[log(GeV)]', '[rad/3]', '[rad/3]']\n",
    "variable_list = [r'$E$', r'$p_T$', r'$\\eta$', r'$phi$']\n",
    "\n",
    "branches=[\"E\",\"pt\",\"eta\",\"phi\"]\n",
    "\n",
    "n_bins = 100\n",
    "\n",
    "for kk in range(0,4):\n",
    "    n_hist_data, bin_edges, _ = plt.hist(train[branches[kk]], color='gray', label='Input', alpha=1, bins=n_bins)\n",
    "    plt.xlabel(xlabel=variable_list[kk] + ' ' + unit_list[kk])\n",
    "    plt.ylabel('# of events')\n",
    "    plt.show()"
   ]
  },
  {
   "cell_type": "markdown",
   "metadata": {},
   "source": [
    "#### Normalization\n",
    "Normalization is to scaling the values by modifying to use a common scale, without distorting differences in the ranges of values or losing information. We use standarization(z-score normalization) or max-min normalization for the scaling purposes.\n",
    "\n",
    "In max-min normalization we scale by,\n",
    "![https://miro.medium.com/max/341/1*DWktiIdq6yax8aV40cWpTg.png](https://miro.medium.com/max/341/1*DWktiIdq6yax8aV40cWpTg.png)\n",
    "\n",
    "In z-score normalization, we scale by,\n",
    "![https://miro.medium.com/max/400/1*13XKCXQc7eabfZbRzkvGvA.gif](https://miro.medium.com/max/400/1*13XKCXQc7eabfZbRzkvGvA.gif)"
   ]
  },
  {
   "cell_type": "code",
   "execution_count": 8,
   "metadata": {},
   "outputs": [],
   "source": [
    "mean = train.mean()\n",
    "std = train.std()\n",
    "\n",
    "train_data = (train - mean) / std   #z-score normalizing training input data\n",
    "test_data = (test - mean) / std     #z-score normalizing testing input data"
   ]
  },
  {
   "cell_type": "code",
   "execution_count": 9,
   "metadata": {},
   "outputs": [
    {
     "data": {
      "image/png": "[encoded data removed]",
      "text/plain": [
       "<Figure size 432x288 with 1 Axes>"
      ]
     },
     "metadata": {
      "needs_background": "light"
     },
     "output_type": "display_data"
    },
    {
     "data": {
      "image/png": "[encoded data removed]",
      "text/plain": [
       "<Figure size 432x288 with 1 Axes>"
      ]
     },
     "metadata": {
      "needs_background": "light"
     },
     "output_type": "display_data"
    },
    {
     "data": {
      "image/png": "[encoded data removed]",
      "text/plain": [
       "<Figure size 432x288 with 1 Axes>"
      ]
     },
     "metadata": {
      "needs_background": "light"
     },
     "output_type": "display_data"
    },
    {
     "data": {
      "image/png": "[encoded data removed]",
      "text/plain": [
       "<Figure size 432x288 with 1 Axes>"
      ]
     },
     "metadata": {
      "needs_background": "light"
     },
     "output_type": "display_data"
    }
   ],
   "source": [
    "unit_list = ['[log(GeV)]', '[log(GeV)]', '[rad/3]', '[rad/3]']\n",
    "variable_list = [r'$E$', r'$p_T$', r'$\\eta$', r'$phi$']\n",
    "\n",
    "branches=[\"E\",\"pt\",\"eta\",\"phi\"]\n",
    "\n",
    "n_bins = 100\n",
    "\n",
    "for kk in range(0,4):\n",
    "    n_hist_data, bin_edges, _ = plt.hist(train_data[branches[kk]], color='gray', label='Input', alpha=1, bins=n_bins)\n",
    "    plt.xlabel(xlabel=variable_list[kk] + ' ' + unit_list[kk])\n",
    "    plt.ylabel('# of events')\n",
    "    plt.show()"
   ]
  },
  {
   "cell_type": "markdown",
   "metadata": {},
   "source": [
    "#### Setting up the network\n",
    "##### Preparing the data\n",
    "Forming the TensorDatasets from adding the two datasets using PyTorch. also importing other libraries and packages."
   ]
  },
  {
   "cell_type": "code",
   "execution_count": 42,
   "metadata": {},
   "outputs": [],
   "source": [
    "import torch\n",
    "import torch.nn as nn\n",
    "import torch.optim as optim\n",
    "import torch.utils.data\n",
    "from torch.autograd import Variable\n",
    "\n",
    "from torch.utils.data import TensorDataset\n",
    "from torch.utils.data import DataLoader\n",
    "\n",
    "from fastai import learner\n",
    "from fastai.data import core\n",
    "\n",
    "train_x = train_data\n",
    "test_x = test_data\n",
    "train_y = train_x   # y = x since we are building an autoencoder\n",
    "test_y = test_x\n",
    "\n",
    "# Constructs a tensor object of the data and wraps them in a TensorDataset object.\n",
    "train_ds = TensorDataset(torch.tensor(train_x.values, dtype=torch.float), torch.tensor(train_y.values, dtype=torch.float))\n",
    "valid_ds = TensorDataset(torch.tensor(test_x.values, dtype=torch.float), torch.tensor(test_y.values, dtype=torch.float))"
   ]
  },
  {
   "cell_type": "markdown",
   "metadata": {},
   "source": [
    "Fixing the batch size and further dividing into batches.Batch Size is a hyperparameter specifying the number of samples to work or pass into the network before updating the model parameters."
   ]
  },
  {
   "cell_type": "code",
   "execution_count": 43,
   "metadata": {},
   "outputs": [],
   "source": [
    "bs = 256\n",
    "\n",
    "# Converts the TensorDataset into a DataLoader object and combines into one DataLoaders object (a basic wrapper\n",
    "# around several DataLoader objects). \n",
    "train_dl = DataLoader(train_ds, batch_size=bs, shuffle=True)\n",
    "valid_dl = DataLoader(valid_ds, batch_size=bs * 2)\n",
    "dls = core.DataLoaders(train_dl, valid_dl)\n"
   ]
  },
  {
   "cell_type": "markdown",
   "metadata": {},
   "source": [
    "### Preparing the Network\n",
    "Here we design the required neural network for the autoencoder. Here we have a LeakyReLU, tanh activation function,  which is used to add non-linearity. Layers goes from 4 to 200 to 20 to 3 for the encoder part and same in reverse order for the decoder part, where the 4 variables are compressed to 3 after the  encoder and can be again decompressed using the decoder network.\n",
    "\n",
    "Below figure shows a diagrammatic view of the created neural network where the encoder part is till Hidden layer 4 and after that the decoder network starts.\n",
    "\n",
    "Layers for 200 nodes are scaled to 50 for easier visual representation and understanding.\n",
    "![autoencoder_fig.png](autoencoder_fig.png)\n",
    "\n"
   ]
  },
  {
   "cell_type": "code",
   "execution_count": 44,
   "metadata": {},
   "outputs": [
    {
     "data": {
      "text/plain": [
       "AE_3D_200_LeakyReLU(\n",
       "  (en1): Linear(in_features=4, out_features=200, bias=True)\n",
       "  (en2): Linear(in_features=200, out_features=200, bias=True)\n",
       "  (en3): Linear(in_features=200, out_features=20, bias=True)\n",
       "  (en4): Linear(in_features=20, out_features=3, bias=True)\n",
       "  (de1): Linear(in_features=3, out_features=20, bias=True)\n",
       "  (de2): Linear(in_features=20, out_features=200, bias=True)\n",
       "  (de3): Linear(in_features=200, out_features=200, bias=True)\n",
       "  (de4): Linear(in_features=200, out_features=4, bias=True)\n",
       "  (tanh): Tanh()\n",
       ")"
      ]
     },
     "execution_count": 44,
     "metadata": {},
     "output_type": "execute_result"
    }
   ],
   "source": [
    "class AE_3D_200_LeakyReLU(nn.Module):\n",
    "    def __init__(self, n_features=4):\n",
    "        super(AE_3D_200_LeakyReLU, self).__init__()\n",
    "        self.en1 = nn.Linear(n_features, 200)\n",
    "        self.en2 = nn.Linear(200, 200)\n",
    "        self.en3 = nn.Linear(200, 20)\n",
    "        self.en4 = nn.Linear(20, 3)\n",
    "        self.de1 = nn.Linear(3, 20)\n",
    "        self.de2 = nn.Linear(20, 200)\n",
    "        self.de3 = nn.Linear(200, 200)\n",
    "        self.de4 = nn.Linear(200, n_features)\n",
    "        self.tanh = nn.Tanh()\n",
    "\n",
    "    def encode(self, x):\n",
    "        return self.en4(self.tanh(self.en3(self.tanh(self.en2(self.tanh(self.en1(x)))))))\n",
    "\n",
    "    def decode(self, x):\n",
    "        return self.de4(self.tanh(self.de3(self.tanh(self.de2(self.tanh(self.de1(self.tanh(x))))))))\n",
    "\n",
    "    def forward(self, x):\n",
    "        z = self.encode(x)\n",
    "        return self.decode(z)\n",
    "\n",
    "    def describe(self):\n",
    "        return 'in-200-200-20-3-20-200-200-out'\n",
    "\n",
    "\n",
    "model = AE_3D_200_LeakyReLU()\n",
    "model.to('cpu')"
   ]
  },
  {
   "cell_type": "markdown",
   "metadata": {},
   "source": [
    "Now we define a loss function. Here we choose MSE loss which stands for Mean Squared Error loss, defined as\n",
    "![https://miro.medium.com/max/404/1*-e1QGatrODWpJkEwqP4Jyg.png](https://miro.medium.com/max/404/1*-e1QGatrODWpJkEwqP4Jyg.png)\n",
    "\n",
    "MSE Loss is appropriate for a compression autoencoder as it reflects the [(input-output)/input] physical quantity that we want to minimize.\n"
   ]
  },
  {
   "cell_type": "code",
   "execution_count": 45,
   "metadata": {},
   "outputs": [],
   "source": [
    "from fastai.metrics import mse\n",
    "\n",
    "loss_func = nn.MSELoss()\n",
    "\n",
    "#bn_wd = False  # Don't use weight decay for batchnorm layers\n",
    "#true_wd = True  # weight decay will be used for all optimizers\n",
    "wd = 1e-6\n",
    "\n",
    "recorder = learner.Recorder()\n",
    "learn = learner.Learner(dls, model=model, wd=wd, loss_func=loss_func, cbs=recorder)\n"
   ]
  },
  {
   "cell_type": "markdown",
   "metadata": {},
   "source": [
    "### Training the network\n",
    "Before training the neural network, we will find the best learning rate. The learning rate is a hyper-paramater that sets how much the weights of the network will change each step with respect to the loss gradient.\n",
    "\n",
    "Then we plot the loss versus the learning rates. We're interested in finding a good order of magnitude of learning rate, so we plot with a log scale.\n",
    "\n",
    "A good value for the learning rates is then either:\n",
    "\n",
    "one tenth of the minimum before the divergence\n",
    "when the slope is the steepest"
   ]
  },
  {
   "cell_type": "code",
   "execution_count": 46,
   "metadata": {},
   "outputs": [
    {
     "name": "stdout",
     "output_type": "stream",
     "text": [
      "Learning rate with the minimum loss: 0.002290867641568184\n",
      "Learning rate with the steepest gradient: 0.00363078061491251\n"
     ]
    },
    {
     "data": {
      "image/png": "[encoded data removed]",
      "text/plain": [
       "<Figure size 432x288 with 1 Axes>"
      ]
     },
     "metadata": {
      "needs_background": "light"
     },
     "output_type": "display_data"
    }
   ],
   "source": [
    "from fastai.callback import schedule\n",
    "\n",
    "lr_min, lr_steep = learn.lr_find()\n",
    "\n",
    "print('Learning rate with the minimum loss:', lr_min)\n",
    "print('Learning rate with the steepest gradient:', lr_steep)"
   ]
  },
  {
   "cell_type": "markdown",
   "metadata": {},
   "source": [
    "Now we want to run the training!\n",
    "\n",
    "User-chosen variables:\n",
    "\n",
    "n_epoch: The number of epochs, i.e how many times the to run through all of the training data once (i.e the 6000 entries, see cell 2)\n",
    "lr: The learning rate. Either choose lr_min, lr_steep from above or set your own."
   ]
  },
  {
   "cell_type": "code",
   "execution_count": 47,
   "metadata": {
    "scrolled": true
   },
   "outputs": [
    {
     "name": "stdout",
     "output_type": "stream",
     "text": [
      "[0, 0.5503068566322327, 0.36411377787590027, '00:00']\n",
      "[0, 0.5503068566322327, 0.36411377787590027, '00:00']\n",
      "[1, 0.26439639925956726, 0.14661477506160736, '00:00']\n",
      "[1, 0.26439639925956726, 0.14661477506160736, '00:00']\n",
      "[2, 0.14808841049671173, 0.0962614119052887, '00:00']\n",
      "[2, 0.14808841049671173, 0.0962614119052887, '00:00']\n",
      "[3, 0.09464281052350998, 0.07426876574754715, '00:00']\n",
      "[3, 0.09464281052350998, 0.07426876574754715, '00:00']\n",
      "[4, 0.07069980353116989, 0.05665895342826843, '00:00']\n",
      "[4, 0.07069980353116989, 0.05665895342826843, '00:00']\n",
      "[5, 0.04283043369650841, 0.026448937132954597, '00:00']\n",
      "[5, 0.04283043369650841, 0.026448937132954597, '00:00']\n",
      "[6, 0.025189680978655815, 0.01659534126520157, '00:00']\n",
      "[6, 0.025189680978655815, 0.01659534126520157, '00:00']\n",
      "[7, 0.014157860539853573, 0.008859334513545036, '00:00']\n",
      "[7, 0.014157860539853573, 0.008859334513545036, '00:00']\n",
      "[8, 0.008328791707754135, 0.005854285322129726, '00:00']\n",
      "[8, 0.008328791707754135, 0.005854285322129726, '00:00']\n",
      "[9, 0.004992558155208826, 0.0037560604978352785, '00:00']\n",
      "[9, 0.004992558155208826, 0.0037560604978352785, '00:00']\n",
      "[10, 0.004002731759101152, 0.002964537125080824, '00:00']\n",
      "[10, 0.004002731759101152, 0.002964537125080824, '00:00']\n",
      "[11, 0.002808984834700823, 0.0021772710606455803, '00:00']\n",
      "[11, 0.002808984834700823, 0.0021772710606455803, '00:00']\n",
      "[12, 0.0030867853201925755, 0.00264603178948164, '00:00']\n",
      "[12, 0.0030867853201925755, 0.00264603178948164, '00:00']\n",
      "[13, 0.004687900189310312, 0.002947406144812703, '00:00']\n",
      "[13, 0.004687900189310312, 0.002947406144812703, '00:00']\n",
      "[14, 0.0039977277629077435, 0.0030020643025636673, '00:00']\n",
      "[14, 0.0039977277629077435, 0.0030020643025636673, '00:00']\n",
      "[15, 0.004278026986867189, 0.00601194379851222, '00:00']\n",
      "[15, 0.004278026986867189, 0.00601194379851222, '00:00']\n",
      "[16, 0.004697300959378481, 0.006458227522671223, '00:00']\n",
      "[16, 0.004697300959378481, 0.006458227522671223, '00:00']\n",
      "[17, 0.004932121839374304, 0.0027516016270965338, '00:00']\n",
      "[17, 0.004932121839374304, 0.0027516016270965338, '00:00']\n",
      "[18, 0.005259596277028322, 0.0034942550119012594, '00:00']\n",
      "[18, 0.005259596277028322, 0.0034942550119012594, '00:00']\n",
      "[19, 0.007819764316082, 0.005078427959233522, '00:00']\n",
      "[19, 0.007819764316082, 0.005078427959233522, '00:00']\n",
      "[20, 0.005618981551378965, 0.0045623937621712685, '00:00']\n",
      "[20, 0.005618981551378965, 0.0045623937621712685, '00:00']\n",
      "[21, 0.005919914226979017, 0.0038652054499834776, '00:01']\n",
      "[21, 0.005919914226979017, 0.0038652054499834776, '00:01']\n",
      "[22, 0.005179296247661114, 0.003092133207246661, '00:00']\n",
      "[22, 0.005179296247661114, 0.003092133207246661, '00:00']\n",
      "[23, 0.008700301870703697, 0.013051463291049004, '00:00']\n",
      "[23, 0.008700301870703697, 0.013051463291049004, '00:00']\n",
      "[24, 0.005569094326347113, 0.007101593539118767, '00:00']\n",
      "[24, 0.005569094326347113, 0.007101593539118767, '00:00']\n",
      "[25, 0.004494404420256615, 0.0028125508688390255, '00:00']\n",
      "[25, 0.004494404420256615, 0.0028125508688390255, '00:00']\n",
      "[26, 0.005650073289871216, 0.002210862934589386, '00:00']\n",
      "[26, 0.005650073289871216, 0.002210862934589386, '00:00']\n",
      "[27, 0.004831266589462757, 0.0022600905504077673, '00:00']\n",
      "[27, 0.004831266589462757, 0.0022600905504077673, '00:00']\n",
      "[28, 0.0038218360859900713, 0.007289433851838112, '00:00']\n",
      "[28, 0.0038218360859900713, 0.007289433851838112, '00:00']\n",
      "[29, 0.004006666596978903, 0.004607449751347303, '00:01']\n",
      "[29, 0.004006666596978903, 0.004607449751347303, '00:01']\n",
      "[30, 0.00431631738319993, 0.0025241828989237547, '00:01']\n",
      "[30, 0.00431631738319993, 0.0025241828989237547, '00:01']\n",
      "[31, 0.004143933765590191, 0.003361096605658531, '00:00']\n",
      "[31, 0.004143933765590191, 0.003361096605658531, '00:00']\n",
      "[32, 0.0035550042521208525, 0.0024833325296640396, '00:00']\n",
      "[32, 0.0035550042521208525, 0.0024833325296640396, '00:00']\n",
      "[33, 0.004053353797644377, 0.003966964315623045, '00:00']\n",
      "[33, 0.004053353797644377, 0.003966964315623045, '00:00']\n",
      "[34, 0.003572396468371153, 0.005646274890750647, '00:00']\n",
      "[34, 0.003572396468371153, 0.005646274890750647, '00:00']\n",
      "[35, 0.00410808390006423, 0.00429317494854331, '00:00']\n",
      "[35, 0.00410808390006423, 0.00429317494854331, '00:00']\n",
      "[36, 0.0032559935934841633, 0.001968555385246873, '00:00']\n",
      "[36, 0.0032559935934841633, 0.001968555385246873, '00:00']\n",
      "[37, 0.0033225652296096087, 0.003912526182830334, '00:00']\n",
      "[37, 0.0033225652296096087, 0.003912526182830334, '00:00']\n",
      "[38, 0.003665035590529442, 0.0008974963566288352, '00:00']\n",
      "[38, 0.003665035590529442, 0.0008974963566288352, '00:00']\n",
      "[39, 0.003029833547770977, 0.001843982725404203, '00:00']\n",
      "[39, 0.003029833547770977, 0.001843982725404203, '00:00']\n",
      "[40, 0.0026454569306224585, 0.0033249848056584597, '00:00']\n",
      "[40, 0.0026454569306224585, 0.0033249848056584597, '00:00']\n",
      "[41, 0.0019270103657618165, 0.0011654283152893186, '00:00']\n",
      "[41, 0.0019270103657618165, 0.0011654283152893186, '00:00']\n",
      "[42, 0.0025635291822254658, 0.0008844402618706226, '00:00']\n",
      "[42, 0.0025635291822254658, 0.0008844402618706226, '00:00']\n",
      "[43, 0.0020182193256914616, 0.0019648573361337185, '00:00']\n",
      "[43, 0.0020182193256914616, 0.0019648573361337185, '00:00']\n",
      "[44, 0.001723413821309805, 0.0018292419845238328, '00:00']\n",
      "[44, 0.001723413821309805, 0.0018292419845238328, '00:00']\n",
      "[45, 0.002656462835147977, 0.0023138467222452164, '00:00']\n",
      "[45, 0.002656462835147977, 0.0023138467222452164, '00:00']\n",
      "[46, 0.0018206849927082658, 0.0009487125789746642, '00:00']\n",
      "[46, 0.0018206849927082658, 0.0009487125789746642, '00:00']\n",
      "[47, 0.002088455716148019, 0.0042841448448598385, '00:00']\n",
      "[47, 0.002088455716148019, 0.0042841448448598385, '00:00']\n",
      "[48, 0.00149704294744879, 0.0020850496366620064, '00:00']\n",
      "[48, 0.00149704294744879, 0.0020850496366620064, '00:00']\n",
      "[49, 0.0019544558599591255, 0.002507683588191867, '00:01']\n",
      "[49, 0.0019544558599591255, 0.002507683588191867, '00:01']\n",
      "[50, 0.0012984954519197345, 0.0010386728681623936, '00:00']\n",
      "[50, 0.0012984954519197345, 0.0010386728681623936, '00:00']\n",
      "[51, 0.0017367822583764791, 0.0012599279871210456, '00:00']\n",
      "[51, 0.0017367822583764791, 0.0012599279871210456, '00:00']\n",
      "[52, 0.0013538403436541557, 0.0015618245815858245, '00:00']\n",
      "[52, 0.0013538403436541557, 0.0015618245815858245, '00:00']\n",
      "[53, 0.0015047370688989758, 0.0009126058430410922, '00:00']\n",
      "[53, 0.0015047370688989758, 0.0009126058430410922, '00:00']\n",
      "[54, 0.0010122834937646985, 0.0009687731508165598, '00:00']\n",
      "[54, 0.0010122834937646985, 0.0009687731508165598, '00:00']\n",
      "[55, 0.001018586102873087, 0.0008325030212290585, '00:00']\n",
      "[55, 0.001018586102873087, 0.0008325030212290585, '00:00']\n",
      "[56, 0.0009222747175954282, 0.0008901136461645365, '00:00']\n",
      "[56, 0.0009222747175954282, 0.0008901136461645365, '00:00']\n",
      "[57, 0.0009811854688450694, 0.0018148110248148441, '00:01']\n",
      "[57, 0.0009811854688450694, 0.0018148110248148441, '00:01']\n",
      "[58, 0.0008137977565638721, 0.0006798631511628628, '00:00']\n",
      "[58, 0.0008137977565638721, 0.0006798631511628628, '00:00']\n",
      "[59, 0.0005655165878124535, 0.0006173747242428362, '00:00']\n",
      "[59, 0.0005655165878124535, 0.0006173747242428362, '00:00']\n",
      "[60, 0.0006253843894228339, 0.00046763758291490376, '00:00']\n",
      "[60, 0.0006253843894228339, 0.00046763758291490376, '00:00']\n",
      "[61, 0.0006852307124063373, 0.0007798412116244435, '00:00']\n",
      "[61, 0.0006852307124063373, 0.0007798412116244435, '00:00']\n",
      "[62, 0.00043293507769703865, 0.0003054061089642346, '00:00']\n",
      "[62, 0.00043293507769703865, 0.0003054061089642346, '00:00']\n",
      "[63, 0.0004963445826433599, 0.0007581315585412085, '00:00']\n",
      "[63, 0.0004963445826433599, 0.0007581315585412085, '00:00']\n",
      "[64, 0.00036601797910407186, 0.00040067508234642446, '00:00']\n",
      "[64, 0.00036601797910407186, 0.00040067508234642446, '00:00']\n",
      "[65, 0.0003055758133996278, 0.00042611558455973864, '00:00']\n",
      "[65, 0.0003055758133996278, 0.00042611558455973864, '00:00']\n",
      "[66, 0.0003222323430236429, 0.00040728345629759133, '00:00']\n",
      "[66, 0.0003222323430236429, 0.00040728345629759133, '00:00']\n",
      "[67, 0.00027782138204202056, 0.00027158012380823493, '00:00']\n",
      "[67, 0.00027782138204202056, 0.00027158012380823493, '00:00']\n",
      "[68, 0.00027678851620294154, 0.0004207245074212551, '00:00']\n",
      "[68, 0.00027678851620294154, 0.0004207245074212551, '00:00']\n",
      "[69, 0.00023927462461870164, 0.00022404533228836954, '00:00']\n",
      "[69, 0.00023927462461870164, 0.00022404533228836954, '00:00']\n"
     ]
    },
    {
     "name": "stdout",
     "output_type": "stream",
     "text": [
      "[70, 0.00021631736308336258, 0.0006020919536240399, '00:00']\n",
      "[70, 0.00021631736308336258, 0.0006020919536240399, '00:00']\n",
      "[71, 0.00019890467228833586, 0.0002568939817138016, '00:00']\n",
      "[71, 0.00019890467228833586, 0.0002568939817138016, '00:00']\n",
      "[72, 0.0001664187730057165, 0.00023238635913003236, '00:00']\n",
      "[72, 0.0001664187730057165, 0.00023238635913003236, '00:00']\n",
      "[73, 0.0001541014207759872, 0.00017097870295401663, '00:00']\n",
      "[73, 0.0001541014207759872, 0.00017097870295401663, '00:00']\n",
      "[74, 0.00011780303611885756, 0.00018380933033768088, '00:00']\n",
      "[74, 0.00011780303611885756, 0.00018380933033768088, '00:00']\n",
      "[75, 0.00014039229426998645, 0.00019954609160777181, '00:00']\n",
      "[75, 0.00014039229426998645, 0.00019954609160777181, '00:00']\n",
      "[76, 0.0001471342984586954, 0.00017638310964684933, '00:00']\n",
      "[76, 0.0001471342984586954, 0.00017638310964684933, '00:00']\n",
      "[77, 0.00010159930388908833, 0.00011811903095804155, '00:00']\n",
      "[77, 0.00010159930388908833, 0.00011811903095804155, '00:00']\n",
      "[78, 8.996449469123036e-05, 0.0001335338456556201, '00:01']\n",
      "[78, 8.996449469123036e-05, 0.0001335338456556201, '00:01']\n",
      "[79, 9.361923002870753e-05, 0.00011162771261297166, '00:01']\n",
      "[79, 9.361923002870753e-05, 0.00011162771261297166, '00:01']\n",
      "[80, 6.482387834694237e-05, 0.00011945253208978102, '00:01']\n",
      "[80, 6.482387834694237e-05, 0.00011945253208978102, '00:01']\n",
      "[81, 5.3962743550073355e-05, 9.026825136970729e-05, '00:00']\n",
      "[81, 5.3962743550073355e-05, 9.026825136970729e-05, '00:00']\n",
      "[82, 4.7642428398830816e-05, 8.944178989622742e-05, '00:00']\n",
      "[82, 4.7642428398830816e-05, 8.944178989622742e-05, '00:00']\n",
      "[83, 4.159902528044768e-05, 8.97159188752994e-05, '00:00']\n",
      "[83, 4.159902528044768e-05, 8.97159188752994e-05, '00:00']\n",
      "[84, 3.928278965759091e-05, 8.225328201660886e-05, '00:00']\n",
      "[84, 3.928278965759091e-05, 8.225328201660886e-05, '00:00']\n",
      "[85, 3.573472713469528e-05, 7.777362043270841e-05, '00:00']\n",
      "[85, 3.573472713469528e-05, 7.777362043270841e-05, '00:00']\n",
      "[86, 3.4363267332082614e-05, 7.556804484920576e-05, '00:00']\n",
      "[86, 3.4363267332082614e-05, 7.556804484920576e-05, '00:00']\n",
      "[87, 3.0416651497944258e-05, 6.913988181622699e-05, '00:01']\n",
      "[87, 3.0416651497944258e-05, 6.913988181622699e-05, '00:01']\n",
      "[88, 2.7274631065665744e-05, 6.951559771550819e-05, '00:00']\n",
      "[88, 2.7274631065665744e-05, 6.951559771550819e-05, '00:00']\n",
      "[89, 2.6909645384876058e-05, 7.091104635037482e-05, '00:00']\n",
      "[89, 2.6909645384876058e-05, 7.091104635037482e-05, '00:00']\n",
      "[90, 2.525468335079495e-05, 6.650538125541061e-05, '00:00']\n",
      "[90, 2.525468335079495e-05, 6.650538125541061e-05, '00:00']\n",
      "[91, 2.3625887479283847e-05, 6.430286157410592e-05, '00:00']\n",
      "[91, 2.3625887479283847e-05, 6.430286157410592e-05, '00:00']\n",
      "[92, 2.2000216631568037e-05, 6.466476042987779e-05, '00:00']\n",
      "[92, 2.2000216631568037e-05, 6.466476042987779e-05, '00:00']\n",
      "[93, 2.1723302779719234e-05, 6.513325206469744e-05, '00:00']\n",
      "[93, 2.1723302779719234e-05, 6.513325206469744e-05, '00:00']\n",
      "[94, 2.0487403162405826e-05, 6.262741226237267e-05, '00:00']\n",
      "[94, 2.0487403162405826e-05, 6.262741226237267e-05, '00:00']\n",
      "[95, 2.0916888388455845e-05, 6.315201608231291e-05, '00:00']\n",
      "[95, 2.0916888388455845e-05, 6.315201608231291e-05, '00:00']\n",
      "[96, 2.031105941568967e-05, 6.19608472334221e-05, '00:00']\n",
      "[96, 2.031105941568967e-05, 6.19608472334221e-05, '00:00']\n",
      "[97, 1.9581133528845385e-05, 6.19791098870337e-05, '00:01']\n",
      "[97, 1.9581133528845385e-05, 6.19791098870337e-05, '00:01']\n",
      "[98, 1.901071664178744e-05, 6.173827569000423e-05, '00:01']\n",
      "[98, 1.901071664178744e-05, 6.173827569000423e-05, '00:01']\n",
      "[99, 1.9116965631837957e-05, 6.170923006720841e-05, '00:01']\n",
      "[99, 1.9116965631837957e-05, 6.170923006720841e-05, '00:01']\n",
      "Training took 92.44106769399878 seconds\n"
     ]
    }
   ],
   "source": [
    "import time\n",
    "\n",
    "start = time.perf_counter() # Starts timer\n",
    "learn.fit_one_cycle(100,lr_steep)\n",
    "end = time.perf_counter() # Ends timer\n",
    "delta_t = end - start\n",
    "print('Training took', delta_t, 'seconds')"
   ]
  },
  {
   "cell_type": "markdown",
   "metadata": {},
   "source": [
    "Then we plot the loss as a function of batches and epochs to check if we reach a plateau."
   ]
  },
  {
   "cell_type": "code",
   "execution_count": 48,
   "metadata": {},
   "outputs": [
    {
     "data": {
      "image/png": "[encoded data removed]",
      "text/plain": [
       "<Figure size 432x288 with 1 Axes>"
      ]
     },
     "metadata": {
      "needs_background": "light"
     },
     "output_type": "display_data"
    }
   ],
   "source": [
    "recorder.plot_loss()\n"
   ]
  },
  {
   "cell_type": "markdown",
   "metadata": {},
   "source": [
    "Finding the MSE Error after network training"
   ]
  },
  {
   "cell_type": "code",
   "execution_count": 49,
   "metadata": {},
   "outputs": [
    {
     "data": {
      "text/plain": [
       "(#1) [6.170923006720841e-05]"
      ]
     },
     "execution_count": 49,
     "metadata": {},
     "output_type": "execute_result"
    }
   ],
   "source": [
    "learn.validate()\n"
   ]
  },
  {
   "cell_type": "code",
   "execution_count": 51,
   "metadata": {},
   "outputs": [
    {
     "data": {
      "image/png": "[encoded data removed]",
      "text/plain": [
       "<Figure size 432x288 with 1 Axes>"
      ]
     },
     "metadata": {
      "needs_background": "light"
     },
     "output_type": "display_data"
    },
    {
     "data": {
      "image/png": "[encoded data removed]",
      "text/plain": [
       "<Figure size 432x288 with 1 Axes>"
      ]
     },
     "metadata": {
      "needs_background": "light"
     },
     "output_type": "display_data"
    },
    {
     "data": {
      "image/png": "[encoded data removed]",
      "text/plain": [
       "<Figure size 432x288 with 1 Axes>"
      ]
     },
     "metadata": {
      "needs_background": "light"
     },
     "output_type": "display_data"
    },
    {
     "data": {
      "image/png": "[encoded data removed]",
      "text/plain": [
       "<Figure size 432x288 with 1 Axes>"
      ]
     },
     "metadata": {
      "needs_background": "light"
     },
     "output_type": "display_data"
    }
   ],
   "source": [
    "\n",
    "plt.close('all')\n",
    "unit_list = ['[log(GeV)]', '[log(GeV)]', '[rad/3]', '[rad/3]']\n",
    "variable_list = [r'$E$', r'$p_T$', r'$\\eta$', r'$\\phi$']\n",
    "line_style = ['--', '-']\n",
    "colors = ['orange', 'c']\n",
    "markers = ['*', 's']\n",
    "\n",
    "model.to('cpu')\n",
    "\n",
    "save = False # Option to save figure\n",
    "\n",
    "# Histograms\n",
    "idxs = (0, 100000)  # Choose events to compare\n",
    "data = torch.tensor(test_data[idxs[0]:idxs[1]].values, dtype=torch.float)\n",
    "pred = model(data)\n",
    "pred = pred.detach().numpy()\n",
    "data = data.detach().numpy()\n",
    "\n",
    "data_df = pd.DataFrame(data, columns=test.columns)\n",
    "pred_df = pd.DataFrame(pred, columns=test.columns)\n",
    "\n",
    "      \n",
    "alph = 0.8\n",
    "n_bins = 200\n",
    "for kk in np.arange(4):\n",
    "    plt.figure()\n",
    "    n_hist_data, bin_edges, _ = plt.hist(data[:, kk], color=colors[1], label='Input', alpha=1, bins=n_bins)\n",
    "    n_hist_pred, _, _ = plt.hist(pred[:, kk], color=colors[0], label='Output', alpha=alph, bins=bin_edges)\n",
    "    plt.suptitle(test.columns[kk])\n",
    "    plt.xlabel(test.columns[kk])\n",
    "    plt.ylabel('Number of events')\n",
    "    plt.yscale('log')\n",
    "    if save:\n",
    "        plt.savefig(os.path.join(save_dir,test.columns[kk]+'.png'))\n",
    "    plt.legend()"
   ]
  },
  {
   "cell_type": "markdown",
   "metadata": {},
   "source": [
    "#### Experimenting with Batch Normalization Layers\n",
    "We will modify the neural network and add Batch Normalization layers, which normalizes batches after layers. Basically, rather than normalizing  the values once  in the beginning, we normalize all  over the network.\n",
    "Batch Normalization helps in improving training time and decreases the time of convergence and the problem of vanishing gradients and acts as regularization too.\n"
   ]
  },
  {
   "cell_type": "code",
   "execution_count": 52,
   "metadata": {},
   "outputs": [
    {
     "data": {
      "text/plain": [
       "AE_3D_200_LeakyReLU_BatchNorm(\n",
       "  (encoder): Sequential(\n",
       "    (0): Linear(in_features=4, out_features=200, bias=True)\n",
       "    (1): BatchNorm1d(200, eps=1e-05, momentum=0.1, affine=True, track_running_stats=True)\n",
       "    (2): Tanh()\n",
       "    (3): Linear(in_features=200, out_features=200, bias=True)\n",
       "    (4): BatchNorm1d(200, eps=1e-05, momentum=0.1, affine=True, track_running_stats=True)\n",
       "    (5): Tanh()\n",
       "    (6): Linear(in_features=200, out_features=20, bias=True)\n",
       "    (7): BatchNorm1d(20, eps=1e-05, momentum=0.1, affine=True, track_running_stats=True)\n",
       "    (8): Tanh()\n",
       "    (9): Linear(in_features=20, out_features=3, bias=True)\n",
       "  )\n",
       "  (decoder): Sequential(\n",
       "    (0): Linear(in_features=3, out_features=20, bias=True)\n",
       "    (1): BatchNorm1d(20, eps=1e-05, momentum=0.1, affine=True, track_running_stats=True)\n",
       "    (2): Tanh()\n",
       "    (3): Linear(in_features=20, out_features=200, bias=True)\n",
       "    (4): BatchNorm1d(200, eps=1e-05, momentum=0.1, affine=True, track_running_stats=True)\n",
       "    (5): Tanh()\n",
       "    (6): Linear(in_features=200, out_features=200, bias=True)\n",
       "    (7): BatchNorm1d(200, eps=1e-05, momentum=0.1, affine=True, track_running_stats=True)\n",
       "    (8): Tanh()\n",
       "    (9): Linear(in_features=200, out_features=4, bias=True)\n",
       "  )\n",
       ")"
      ]
     },
     "execution_count": 52,
     "metadata": {},
     "output_type": "execute_result"
    }
   ],
   "source": [
    "#Also modify the network by adding another layer each in encoder and decoder part\n",
    "    \n",
    "class AE_3D_200_LeakyReLU_BatchNorm(nn.Module):\n",
    "    def __init__(self, in_features=4):\n",
    "        super().__init__()\n",
    "        self.encoder = nn.Sequential(\n",
    "            nn.Linear(in_features, 200),\n",
    "            nn.BatchNorm1d(200),\n",
    "            nn.Tanh(),\n",
    "            nn.Linear(200, 200),\n",
    "            nn.BatchNorm1d(200),\n",
    "            nn.Tanh(),\n",
    "            nn.Linear(200, 20),\n",
    "            nn.BatchNorm1d(20),\n",
    "            nn.Tanh(),\n",
    "            nn.Linear(20, 3)\n",
    "        )\n",
    "\n",
    "        self.decoder = nn.Sequential(\n",
    "            nn.Linear(3, 20),\n",
    "            nn.BatchNorm1d(20),\n",
    "            nn.Tanh(),\n",
    "            nn.Linear(20, 200),\n",
    "            nn.BatchNorm1d(200),\n",
    "            nn.Tanh(),\n",
    "            nn.Linear(200, 200),\n",
    "            nn.BatchNorm1d(200),\n",
    "            nn.Tanh(),\n",
    "            nn.Linear(200, 4)\n",
    "        )\n",
    "\n",
    "    def forward(self, x):\n",
    "        encoded = self.encoder(x)\n",
    "        return self.decoder(encoded)\n",
    "\n",
    "    def describe(self):\n",
    "        return 'in-200-200-20-3-20-200-200-out'\n",
    "\n",
    "\n",
    "model = AE_3D_200_LeakyReLU_BatchNorm()\n",
    "model.to('cpu')"
   ]
  },
  {
   "cell_type": "code",
   "execution_count": 53,
   "metadata": {},
   "outputs": [],
   "source": [
    "from fastai.metrics import mse\n",
    "\n",
    "loss_func = nn.MSELoss()\n",
    "\n",
    "#bn_wd = False  # Don't use weight decay for batchnorm layers\n",
    "#true_wd = True  # weight decay will be used for all optimizers\n",
    "wd = 1e-6\n",
    "\n",
    "recorder = learner.Recorder()\n",
    "learn = learner.Learner(dls, model=model, wd=wd, loss_func=loss_func, cbs=recorder)\n"
   ]
  },
  {
   "cell_type": "code",
   "execution_count": 54,
   "metadata": {},
   "outputs": [
    {
     "name": "stdout",
     "output_type": "stream",
     "text": [
      "Learning rate with the minimum loss: 0.014454397559165954\n",
      "Learning rate with the steepest gradient: 0.00019054606673307717\n"
     ]
    },
    {
     "data": {
      "image/png": "[encoded data removed]",
      "text/plain": [
       "<Figure size 432x288 with 1 Axes>"
      ]
     },
     "metadata": {
      "needs_background": "light"
     },
     "output_type": "display_data"
    }
   ],
   "source": [
    "from fastai.callback import schedule\n",
    "\n",
    "lr_min, lr_steep = learn.lr_find()\n",
    "\n",
    "print('Learning rate with the minimum loss:', lr_min)\n",
    "print('Learning rate with the steepest gradient:', lr_steep)"
   ]
  },
  {
   "cell_type": "code",
   "execution_count": 55,
   "metadata": {},
   "outputs": [
    {
     "name": "stdout",
     "output_type": "stream",
     "text": [
      "[0, 0.21775107085704803, 0.17499542236328125, '00:01']\n",
      "[0, 0.21775107085704803, 0.17499542236328125, '00:01']\n",
      "[1, 0.1645754873752594, 0.12586620450019836, '00:01']\n",
      "[1, 0.1645754873752594, 0.12586620450019836, '00:01']\n",
      "[2, 0.11593128740787506, 0.07449547946453094, '00:01']\n",
      "[2, 0.11593128740787506, 0.07449547946453094, '00:01']\n",
      "[3, 0.07859086990356445, 0.04466214403510094, '00:01']\n",
      "[3, 0.07859086990356445, 0.04466214403510094, '00:01']\n",
      "[4, 0.05669284984469414, 0.03809429705142975, '00:01']\n",
      "[4, 0.05669284984469414, 0.03809429705142975, '00:01']\n",
      "[5, 0.04229244217276573, 0.02580605074763298, '00:01']\n",
      "[5, 0.04229244217276573, 0.02580605074763298, '00:01']\n",
      "[6, 0.0398433618247509, 0.030072493478655815, '00:01']\n",
      "[6, 0.0398433618247509, 0.030072493478655815, '00:01']\n",
      "[7, 0.03523135185241699, 0.027653032913804054, '00:01']\n",
      "[7, 0.03523135185241699, 0.027653032913804054, '00:01']\n",
      "[8, 0.03494010120630264, 0.029291443526744843, '00:01']\n",
      "[8, 0.03494010120630264, 0.029291443526744843, '00:01']\n",
      "[9, 0.03249502554535866, 0.01707259938120842, '00:01']\n",
      "[9, 0.03249502554535866, 0.01707259938120842, '00:01']\n",
      "[10, 0.030223073437809944, 0.04939436912536621, '00:01']\n",
      "[10, 0.030223073437809944, 0.04939436912536621, '00:01']\n",
      "[11, 0.03210824728012085, 0.021295417100191116, '00:01']\n",
      "[11, 0.03210824728012085, 0.021295417100191116, '00:01']\n",
      "[12, 0.03231319412589073, 0.04766291752457619, '00:01']\n",
      "[12, 0.03231319412589073, 0.04766291752457619, '00:01']\n",
      "[13, 0.03313034027814865, 0.04391654580831528, '00:01']\n",
      "[13, 0.03313034027814865, 0.04391654580831528, '00:01']\n",
      "[14, 0.031217513605952263, 0.04985356330871582, '00:01']\n",
      "[14, 0.031217513605952263, 0.04985356330871582, '00:01']\n",
      "[15, 0.03426799178123474, 0.02811683528125286, '00:01']\n",
      "[15, 0.03426799178123474, 0.02811683528125286, '00:01']\n",
      "[16, 0.0327792651951313, 0.02602873370051384, '00:01']\n",
      "[16, 0.0327792651951313, 0.02602873370051384, '00:01']\n",
      "[17, 0.035103973001241684, 0.07978497445583344, '00:01']\n",
      "[17, 0.035103973001241684, 0.07978497445583344, '00:01']\n",
      "[18, 0.03130827844142914, 0.033692680299282074, '00:01']\n",
      "[18, 0.03130827844142914, 0.033692680299282074, '00:01']\n",
      "[19, 0.03254375606775284, 0.04217025265097618, '00:01']\n",
      "[19, 0.03254375606775284, 0.04217025265097618, '00:01']\n",
      "[20, 0.03344900533556938, 0.027716374024748802, '00:01']\n",
      "[20, 0.03344900533556938, 0.027716374024748802, '00:01']\n",
      "[21, 0.028804589062929153, 0.02141273021697998, '00:01']\n",
      "[21, 0.028804589062929153, 0.02141273021697998, '00:01']\n",
      "[22, 0.029388543218374252, 0.023520344868302345, '00:01']\n",
      "[22, 0.029388543218374252, 0.023520344868302345, '00:01']\n",
      "[23, 0.027972515672445297, 0.032118216156959534, '00:01']\n",
      "[23, 0.027972515672445297, 0.032118216156959534, '00:01']\n",
      "[24, 0.02679622918367386, 0.02858220599591732, '00:01']\n",
      "[24, 0.02679622918367386, 0.02858220599591732, '00:01']\n",
      "[25, 0.027874724939465523, 0.03380057215690613, '00:01']\n",
      "[25, 0.027874724939465523, 0.03380057215690613, '00:01']\n",
      "[26, 0.02654760330915451, 0.03622693568468094, '00:01']\n",
      "[26, 0.02654760330915451, 0.03622693568468094, '00:01']\n",
      "[27, 0.025063922628760338, 0.014517461881041527, '00:01']\n",
      "[27, 0.025063922628760338, 0.014517461881041527, '00:01']\n",
      "[28, 0.02358166128396988, 0.012535152956843376, '00:01']\n",
      "[28, 0.02358166128396988, 0.012535152956843376, '00:01']\n",
      "[29, 0.025778867304325104, 0.03832721710205078, '00:01']\n",
      "[29, 0.025778867304325104, 0.03832721710205078, '00:01']\n",
      "[30, 0.023990310728549957, 0.024570276960730553, '00:01']\n",
      "[30, 0.023990310728549957, 0.024570276960730553, '00:01']\n",
      "[31, 0.019820384681224823, 0.01147245243191719, '00:01']\n",
      "[31, 0.019820384681224823, 0.01147245243191719, '00:01']\n",
      "[32, 0.01998371258378029, 0.027189264073967934, '00:01']\n",
      "[32, 0.01998371258378029, 0.027189264073967934, '00:01']\n",
      "[33, 0.02055172808468342, 0.023732662200927734, '00:01']\n",
      "[33, 0.02055172808468342, 0.023732662200927734, '00:01']\n",
      "[34, 0.02045450732111931, 0.026177553460001945, '00:01']\n",
      "[34, 0.02045450732111931, 0.026177553460001945, '00:01']\n",
      "[35, 0.02005309797823429, 0.019954701885581017, '00:01']\n",
      "[35, 0.02005309797823429, 0.019954701885581017, '00:01']\n",
      "[36, 0.01834113895893097, 0.019950145855545998, '00:01']\n",
      "[36, 0.01834113895893097, 0.019950145855545998, '00:01']\n",
      "[37, 0.018797781318426132, 0.01906384341418743, '00:01']\n",
      "[37, 0.018797781318426132, 0.01906384341418743, '00:01']\n",
      "[38, 0.016177034005522728, 0.023287730291485786, '00:01']\n",
      "[38, 0.016177034005522728, 0.023287730291485786, '00:01']\n",
      "[39, 0.018056992441415787, 0.027916109189391136, '00:01']\n",
      "[39, 0.018056992441415787, 0.027916109189391136, '00:01']\n",
      "[40, 0.017085187137126923, 0.01700097694993019, '00:01']\n",
      "[40, 0.017085187137126923, 0.01700097694993019, '00:01']\n",
      "[41, 0.015818744897842407, 0.00923673715442419, '00:01']\n",
      "[41, 0.015818744897842407, 0.00923673715442419, '00:01']\n",
      "[42, 0.016101490706205368, 0.013032577000558376, '00:01']\n",
      "[42, 0.016101490706205368, 0.013032577000558376, '00:01']\n",
      "[43, 0.017136039212346077, 0.015219847671687603, '00:01']\n",
      "[43, 0.017136039212346077, 0.015219847671687603, '00:01']\n",
      "[44, 0.016678286716341972, 0.016330987215042114, '00:01']\n",
      "[44, 0.016678286716341972, 0.016330987215042114, '00:01']\n",
      "[45, 0.01780652441084385, 0.02650686725974083, '00:01']\n",
      "[45, 0.01780652441084385, 0.02650686725974083, '00:01']\n",
      "[46, 0.01570364460349083, 0.014465421438217163, '00:01']\n",
      "[46, 0.01570364460349083, 0.014465421438217163, '00:01']\n",
      "[47, 0.01682954467833042, 0.020052824169397354, '00:02']\n",
      "[47, 0.01682954467833042, 0.020052824169397354, '00:02']\n",
      "[48, 0.014386555179953575, 0.006406701635569334, '00:01']\n",
      "[48, 0.014386555179953575, 0.006406701635569334, '00:01']\n",
      "[49, 0.014303036034107208, 0.0184312891215086, '00:01']\n",
      "[49, 0.014303036034107208, 0.0184312891215086, '00:01']\n",
      "[50, 0.013386838138103485, 0.006917352322489023, '00:01']\n",
      "[50, 0.013386838138103485, 0.006917352322489023, '00:01']\n",
      "[51, 0.011921675875782967, 0.01316538080573082, '00:01']\n",
      "[51, 0.011921675875782967, 0.01316538080573082, '00:01']\n",
      "[52, 0.012292608618736267, 0.011098573915660381, '00:01']\n",
      "[52, 0.012292608618736267, 0.011098573915660381, '00:01']\n",
      "[53, 0.012929541058838367, 0.031234923750162125, '00:01']\n",
      "[53, 0.012929541058838367, 0.031234923750162125, '00:01']\n",
      "[54, 0.012988519854843616, 0.010259423404932022, '00:01']\n",
      "[54, 0.012988519854843616, 0.010259423404932022, '00:01']\n",
      "[55, 0.013305657543241978, 0.003875156631693244, '00:01']\n",
      "[55, 0.013305657543241978, 0.003875156631693244, '00:01']\n",
      "[56, 0.012161975726485252, 0.00814837496727705, '00:01']\n",
      "[56, 0.012161975726485252, 0.00814837496727705, '00:01']\n",
      "[57, 0.01175809558480978, 0.010555004701018333, '00:01']\n",
      "[57, 0.01175809558480978, 0.010555004701018333, '00:01']\n",
      "[58, 0.01175711490213871, 0.0065795849077403545, '00:01']\n",
      "[58, 0.01175711490213871, 0.0065795849077403545, '00:01']\n",
      "[59, 0.010350193828344345, 0.0030417905654758215, '00:01']\n",
      "[59, 0.010350193828344345, 0.0030417905654758215, '00:01']\n",
      "[60, 0.009875155985355377, 0.012044265866279602, '00:01']\n",
      "[60, 0.009875155985355377, 0.012044265866279602, '00:01']\n",
      "[61, 0.009235089644789696, 0.004455586429685354, '00:01']\n",
      "[61, 0.009235089644789696, 0.004455586429685354, '00:01']\n",
      "[62, 0.009935526177287102, 0.0029260332230478525, '00:01']\n",
      "[62, 0.009935526177287102, 0.0029260332230478525, '00:01']\n",
      "[63, 0.010212347842752934, 0.004745537415146828, '00:01']\n",
      "[63, 0.010212347842752934, 0.004745537415146828, '00:01']\n",
      "[64, 0.01044250838458538, 0.007434213533997536, '00:01']\n",
      "[64, 0.01044250838458538, 0.007434213533997536, '00:01']\n",
      "[65, 0.011205743998289108, 0.008273029699921608, '00:01']\n",
      "[65, 0.011205743998289108, 0.008273029699921608, '00:01']\n",
      "[66, 0.010215593501925468, 0.004327144008129835, '00:01']\n",
      "[66, 0.010215593501925468, 0.004327144008129835, '00:01']\n",
      "[67, 0.009973407723009586, 0.00618673674762249, '00:01']\n",
      "[67, 0.009973407723009586, 0.00618673674762249, '00:01']\n",
      "[68, 0.009497038088738918, 0.003809723537415266, '00:01']\n",
      "[68, 0.009497038088738918, 0.003809723537415266, '00:01']\n",
      "[69, 0.008151406422257423, 0.003054804401472211, '00:01']\n",
      "[69, 0.008151406422257423, 0.003054804401472211, '00:01']\n",
      "[70, 0.008421984501183033, 0.0028800228610634804, '00:01']\n",
      "[70, 0.008421984501183033, 0.0028800228610634804, '00:01']\n",
      "[71, 0.009599060751497746, 0.0031223760452121496, '00:01']\n",
      "[71, 0.009599060751497746, 0.0031223760452121496, '00:01']\n"
     ]
    },
    {
     "name": "stdout",
     "output_type": "stream",
     "text": [
      "[72, 0.008055132813751698, 0.0068512484431266785, '00:01']\n",
      "[72, 0.008055132813751698, 0.0068512484431266785, '00:01']\n",
      "[73, 0.007514700293540955, 0.007346001919358969, '00:01']\n",
      "[73, 0.007514700293540955, 0.007346001919358969, '00:01']\n",
      "[74, 0.008352279663085938, 0.003728085896000266, '00:01']\n",
      "[74, 0.008352279663085938, 0.003728085896000266, '00:01']\n",
      "[75, 0.008003519847989082, 0.002347678178921342, '00:01']\n",
      "[75, 0.008003519847989082, 0.002347678178921342, '00:01']\n",
      "[76, 0.0076185488142073154, 0.0046158055774867535, '00:01']\n",
      "[76, 0.0076185488142073154, 0.0046158055774867535, '00:01']\n",
      "[77, 0.008533361367881298, 0.0028239302337169647, '00:01']\n",
      "[77, 0.008533361367881298, 0.0028239302337169647, '00:01']\n",
      "[78, 0.006524236407130957, 0.0024659086484462023, '00:01']\n",
      "[78, 0.006524236407130957, 0.0024659086484462023, '00:01']\n",
      "[79, 0.007281423546373844, 0.0017421713564544916, '00:01']\n",
      "[79, 0.007281423546373844, 0.0017421713564544916, '00:01']\n",
      "[80, 0.006553272251039743, 0.0012971304822713137, '00:01']\n",
      "[80, 0.006553272251039743, 0.0012971304822713137, '00:01']\n",
      "[81, 0.006459798663854599, 0.0009810590418055654, '00:01']\n",
      "[81, 0.006459798663854599, 0.0009810590418055654, '00:01']\n",
      "[82, 0.006108442321419716, 0.0017803681548684835, '00:01']\n",
      "[82, 0.006108442321419716, 0.0017803681548684835, '00:01']\n",
      "[83, 0.006899124011397362, 0.0009437601547688246, '00:01']\n",
      "[83, 0.006899124011397362, 0.0009437601547688246, '00:01']\n",
      "[84, 0.006644183304160833, 0.000859803578350693, '00:01']\n",
      "[84, 0.006644183304160833, 0.000859803578350693, '00:01']\n",
      "[85, 0.007085744291543961, 0.00115220679435879, '00:01']\n",
      "[85, 0.007085744291543961, 0.00115220679435879, '00:01']\n",
      "[86, 0.0064314063638448715, 0.0016296972753480077, '00:01']\n",
      "[86, 0.0064314063638448715, 0.0016296972753480077, '00:01']\n",
      "[87, 0.006144164130091667, 0.0008658277220092714, '00:01']\n",
      "[87, 0.006144164130091667, 0.0008658277220092714, '00:01']\n",
      "[88, 0.005983993876725435, 0.0006766344304196537, '00:01']\n",
      "[88, 0.005983993876725435, 0.0006766344304196537, '00:01']\n",
      "[89, 0.006230942439287901, 0.0013685586163774133, '00:01']\n",
      "[89, 0.006230942439287901, 0.0013685586163774133, '00:01']\n",
      "[90, 0.0048207431100308895, 0.0005117897526361048, '00:01']\n",
      "[90, 0.0048207431100308895, 0.0005117897526361048, '00:01']\n",
      "[91, 0.005831007845699787, 0.0007443435024470091, '00:01']\n",
      "[91, 0.005831007845699787, 0.0007443435024470091, '00:01']\n",
      "[92, 0.00499162869527936, 0.0005882565164938569, '00:01']\n",
      "[92, 0.00499162869527936, 0.0005882565164938569, '00:01']\n",
      "[93, 0.005029684863984585, 0.0005869932356290519, '00:01']\n",
      "[93, 0.005029684863984585, 0.0005869932356290519, '00:01']\n",
      "[94, 0.005028219893574715, 0.0006904779584147036, '00:01']\n",
      "[94, 0.005028219893574715, 0.0006904779584147036, '00:01']\n",
      "[95, 0.004461657255887985, 0.0005660453462041914, '00:01']\n",
      "[95, 0.004461657255887985, 0.0005660453462041914, '00:01']\n",
      "[96, 0.004536909982562065, 0.0004885744419880211, '00:01']\n",
      "[96, 0.004536909982562065, 0.0004885744419880211, '00:01']\n",
      "[97, 0.0048974379897117615, 0.0004410866240505129, '00:01']\n",
      "[97, 0.0048974379897117615, 0.0004410866240505129, '00:01']\n",
      "[98, 0.005051968153566122, 0.0004591778269968927, '00:01']\n",
      "[98, 0.005051968153566122, 0.0004591778269968927, '00:01']\n",
      "[99, 0.004338438622653484, 0.0004659132391680032, '00:01']\n",
      "[99, 0.004338438622653484, 0.0004659132391680032, '00:01']\n",
      "Training took 160.24973669199971 seconds\n"
     ]
    }
   ],
   "source": [
    "import time\n",
    "\n",
    "start = time.perf_counter() # Starts timer\n",
    "learn.fit_one_cycle(100,lr_min)\n",
    "end = time.perf_counter() # Ends timer\n",
    "delta_t = end - start\n",
    "print('Training took', delta_t, 'seconds')"
   ]
  },
  {
   "cell_type": "code",
   "execution_count": 56,
   "metadata": {},
   "outputs": [
    {
     "data": {
      "image/png": "[encoded data removed]",
      "text/plain": [
       "<Figure size 432x288 with 1 Axes>"
      ]
     },
     "metadata": {
      "needs_background": "light"
     },
     "output_type": "display_data"
    }
   ],
   "source": [
    "recorder.plot_loss()\n"
   ]
  },
  {
   "cell_type": "code",
   "execution_count": 57,
   "metadata": {},
   "outputs": [
    {
     "data": {
      "text/plain": [
       "(#1) [0.0004659132391680032]"
      ]
     },
     "execution_count": 57,
     "metadata": {},
     "output_type": "execute_result"
    }
   ],
   "source": [
    "learn.validate()"
   ]
  },
  {
   "cell_type": "code",
   "execution_count": 58,
   "metadata": {},
   "outputs": [
    {
     "data": {
      "image/png": "[encoded data removed]",
      "text/plain": [
       "<Figure size 432x288 with 1 Axes>"
      ]
     },
     "metadata": {
      "needs_background": "light"
     },
     "output_type": "display_data"
    },
    {
     "data": {
      "image/png": "[encoded data removed]",
      "text/plain": [
       "<Figure size 432x288 with 1 Axes>"
      ]
     },
     "metadata": {
      "needs_background": "light"
     },
     "output_type": "display_data"
    },
    {
     "data": {
      "image/png": "[encoded data removed]",
      "text/plain": [
       "<Figure size 432x288 with 1 Axes>"
      ]
     },
     "metadata": {
      "needs_background": "light"
     },
     "output_type": "display_data"
    },
    {
     "data": {
      "image/png": "[encoded data removed]",
      "text/plain": [
       "<Figure size 432x288 with 1 Axes>"
      ]
     },
     "metadata": {
      "needs_background": "light"
     },
     "output_type": "display_data"
    }
   ],
   "source": [
    "\n",
    "plt.close('all')\n",
    "unit_list = ['[log(GeV)]', '[log(GeV)]', '[rad/3]', '[rad/3]']\n",
    "variable_list = [r'$E$', r'$p_T$', r'$\\eta$', r'$\\phi$']\n",
    "line_style = ['--', '-']\n",
    "colors = ['orange', 'c']\n",
    "markers = ['*', 's']\n",
    "\n",
    "model.to('cpu')\n",
    "\n",
    "save = False # Option to save figure\n",
    "\n",
    "# Histograms\n",
    "idxs = (0, 100000)  # Choose events to compare\n",
    "data = torch.tensor(test_data[idxs[0]:idxs[1]].values, dtype=torch.float)\n",
    "pred = model(data)\n",
    "pred = pred.detach().numpy()\n",
    "data = data.detach().numpy()\n",
    "\n",
    "data_df = pd.DataFrame(data, columns=test.columns)\n",
    "pred_df = pd.DataFrame(pred, columns=test.columns)\n",
    "\n",
    "      \n",
    "alph = 0.8\n",
    "n_bins = 200\n",
    "for kk in np.arange(4):\n",
    "    plt.figure()\n",
    "    n_hist_data, bin_edges, _ = plt.hist(data[:, kk], color=colors[1], label='Input', alpha=1, bins=n_bins)\n",
    "    n_hist_pred, _, _ = plt.hist(pred[:, kk], color=colors[0], label='Output', alpha=alph, bins=bin_edges)\n",
    "    plt.suptitle(test.columns[kk])\n",
    "    plt.xlabel(test.columns[kk])\n",
    "    plt.ylabel('Number of events')\n",
    "    plt.yscale('log')\n",
    "    if save:\n",
    "        plt.savefig(os.path.join(save_dir,test.columns[kk]+'.png'))\n",
    "    plt.legend()"
   ]
  },
  {
   "cell_type": "code",
   "execution_count": null,
   "metadata": {},
   "outputs": [],
   "source": []
  }
 ],
 "metadata": {
  "kernelspec": {
   "display_name": "Python 3",
   "language": "python",
   "name": "python3"
  },
  "language_info": {
   "codemirror_mode": {
    "name": "ipython",
    "version": 3
   },
   "file_extension": ".py",
   "mimetype": "text/x-python",
   "name": "python",
   "nbconvert_exporter": "python",
   "pygments_lexer": "ipython3",
   "version": "3.8.5"
  }
 },
 "nbformat": 4,
 "nbformat_minor": 4
}
