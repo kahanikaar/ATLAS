{
 "cells": [
  {
   "cell_type": "code",
   "execution_count": 1,
   "metadata": {},
   "outputs": [],
   "source": [
    "#Fixing the number of columns for consideriung all the objects per event and not skipping any rows.\n",
    "columns=[]\n",
    "for i in range(21):\n",
    "    columns.append(str(i))"
   ]
  },
  {
   "cell_type": "markdown",
   "metadata": {},
   "source": [
    "Reading data from the CSV file, with delimiter as ';' as data for events are stored in the format of event ID; process ID; event weight; MET; METphi; obj1, E1, pt1, eta1, phi1; obj2,\n",
    "E2, pt2, eta2, phi2; . . . and filling the missing values with 0"
   ]
  },
  {
   "cell_type": "code",
   "execution_count": 2,
   "metadata": {},
   "outputs": [
    {
     "name": "stdout",
     "output_type": "stream",
     "text": [
      "        0                         1         2          3         4  \\\n",
      "0     354  monojet_Zp2000.0_DM_50.0  0.000024   832841.0 -1.224310   \n",
      "1     354  monojet_Zp2000.0_DM_50.0  0.000024   732115.0  1.172450   \n",
      "2     354  monojet_Zp2000.0_DM_50.0  0.000024  1056280.0 -3.067440   \n",
      "3     354  monojet_Zp2000.0_DM_50.0  0.000024   631781.0  1.641810   \n",
      "4     354  monojet_Zp2000.0_DM_50.0  0.000024   457316.0 -1.875360   \n",
      "...   ...                       ...       ...        ...       ...   \n",
      "6394  354  monojet_Zp2000.0_DM_50.0  0.000024   914355.0  1.529030   \n",
      "6395  354  monojet_Zp2000.0_DM_50.0  0.000024   782256.0 -1.207510   \n",
      "6396  354  monojet_Zp2000.0_DM_50.0  0.000024   645619.0 -2.483990   \n",
      "6397  354  monojet_Zp2000.0_DM_50.0  0.000024   632390.0 -0.975687   \n",
      "6398  354  monojet_Zp2000.0_DM_50.0  0.000024   820060.0 -0.043785   \n",
      "\n",
      "                                                5  \\\n",
      "0               b,947383,824498,-0.523103,1.64421   \n",
      "1          j,1.06946e+06,751597,0.858186,-1.84217   \n",
      "2                j,676000,640429,0.33045,0.704554   \n",
      "3               j,936707,616229,0.973383,-1.56592   \n",
      "4                j,640313,589524,0.390749,1.23734   \n",
      "...                                           ...   \n",
      "6394  j,1.11994e+06,1.01269e+06,0.453265,-1.77278   \n",
      "6395         j,1.91509e+06,874869,1.41855,1.83927   \n",
      "6396             j,787964,263158,1.75981,0.456786   \n",
      "6397            j,731849,722541,-0.134499,2.56393   \n",
      "6398           j,893689,742040,-0.618057,-3.10466   \n",
      "\n",
      "                                          6  \\\n",
      "0          j,258722,243675,0.328962,2.25014   \n",
      "1           j,457647,110079,2.10287,2.17501   \n",
      "2     j,1.2393e+06,602104,1.34324,-0.550856   \n",
      "3        j,75998,52304.3,0.905489,-0.806736   \n",
      "4          j,332790,126272,1.61998,-1.85524   \n",
      "...                                     ...   \n",
      "6394     b,246762,95229.6,1.60511,-0.520258   \n",
      "6395     j,156224,152161,-0.222571,-1.83395   \n",
      "6396        j,408087,258903,-1.0269,1.53073   \n",
      "6397      j,268828,259144,0.153813,0.578428   \n",
      "6398     j,107526,106995,-0.0485649,2.43606   \n",
      "\n",
      "                                            7  \\\n",
      "0            j,520092,108590,-2.2473,-1.85679   \n",
      "1          j,49649.1,30875.2,-1.03189,-1.7992   \n",
      "2         j,193865,44825.7,-2.14231,-0.965933   \n",
      "3                                           0   \n",
      "4                                           0   \n",
      "...                                       ...   \n",
      "6394         j,402070,77864.5,2.32445,0.92948   \n",
      "6395        j,102296,64861.3,1.02478,0.412515   \n",
      "6396  j,1.42801e+06,204716,-2.63018,-0.253528   \n",
      "6397       j,153340,43931.5,1.92014,-0.237382   \n",
      "6398                                        0   \n",
      "\n",
      "                                         8  \\\n",
      "0        j,383024,88405.6,2.14516,-1.95635   \n",
      "1                                        0   \n",
      "2     j,28217.2,24926.6,-0.454264,0.516676   \n",
      "3                                        0   \n",
      "4                                        0   \n",
      "...                                    ...   \n",
      "6394    j,74709.2,69979.3,0.359168,0.94458   \n",
      "6395     j,421972,37149.5,-3.12086,2.50949   \n",
      "6396   j,75924.4,63520.6,-0.586197,0.84639   \n",
      "6397                                     0   \n",
      "6398                                     0   \n",
      "\n",
      "                                        9  ...  \\\n",
      "0      j,39507.6,35365.1,0.47046,-1.16445  ...   \n",
      "1                                       0  ...   \n",
      "2                                       0  ...   \n",
      "3                                       0  ...   \n",
      "4                                       0  ...   \n",
      "...                                   ...  ...   \n",
      "6394                                    0  ...   \n",
      "6395                                    0  ...   \n",
      "6396  j,54710.9,47683.2,0.527799,-1.58165  ...   \n",
      "6397                                    0  ...   \n",
      "6398                                    0  ...   \n",
      "\n",
      "                                     11                                   12  \\\n",
      "0                                     0                                    0   \n",
      "1                                     0                                    0   \n",
      "2                                     0                                    0   \n",
      "3                                     0                                    0   \n",
      "4                                     0                                    0   \n",
      "...                                 ...                                  ...   \n",
      "6394                                  0                                    0   \n",
      "6395                                  0                                    0   \n",
      "6396  j,170938,28409.1,-2.47968,2.38334  j,43035.2,26973.3,-1.02803,0.105967   \n",
      "6397                                  0                                    0   \n",
      "6398                                  0                                    0   \n",
      "\n",
      "     13 14 15 16   17   18   19   20  \n",
      "0     0  0  0  0  0.0  0.0  0.0  0.0  \n",
      "1     0  0  0  0  0.0  0.0  0.0  0.0  \n",
      "2     0  0  0  0  0.0  0.0  0.0  0.0  \n",
      "3     0  0  0  0  0.0  0.0  0.0  0.0  \n",
      "4     0  0  0  0  0.0  0.0  0.0  0.0  \n",
      "...  .. .. .. ..  ...  ...  ...  ...  \n",
      "6394  0  0  0  0  0.0  0.0  0.0  0.0  \n",
      "6395  0  0  0  0  0.0  0.0  0.0  0.0  \n",
      "6396  0  0  0  0  0.0  0.0  0.0  0.0  \n",
      "6397  0  0  0  0  0.0  0.0  0.0  0.0  \n",
      "6398  0  0  0  0  0.0  0.0  0.0  0.0  \n",
      "\n",
      "[6399 rows x 21 columns]\n"
     ]
    }
   ],
   "source": [
    "import pandas as pd \n",
    "import io \n",
    "  \n",
    "df = pd.read_csv('monojet_Zp2000.0_DM_50.0_chan3.csv', header=None, delimiter=';',error_bad_lines=False, names=columns).fillna(0)\n",
    "print(df)"
   ]
  },
  {
   "cell_type": "code",
   "execution_count": 3,
   "metadata": {
    "scrolled": false
   },
   "outputs": [
    {
     "data": {
      "text/html": [
       "<div>\n",
       "<style scoped>\n",
       "    .dataframe tbody tr th:only-of-type {\n",
       "        vertical-align: middle;\n",
       "    }\n",
       "\n",
       "    .dataframe tbody tr th {\n",
       "        vertical-align: top;\n",
       "    }\n",
       "\n",
       "    .dataframe thead th {\n",
       "        text-align: right;\n",
       "    }\n",
       "</style>\n",
       "<table border=\"1\" class=\"dataframe\">\n",
       "  <thead>\n",
       "    <tr style=\"text-align: right;\">\n",
       "      <th></th>\n",
       "      <th>0</th>\n",
       "      <th>1</th>\n",
       "      <th>2</th>\n",
       "      <th>3</th>\n",
       "      <th>4</th>\n",
       "      <th>5</th>\n",
       "      <th>6</th>\n",
       "      <th>7</th>\n",
       "      <th>8</th>\n",
       "      <th>9</th>\n",
       "      <th>...</th>\n",
       "      <th>11</th>\n",
       "      <th>12</th>\n",
       "      <th>13</th>\n",
       "      <th>14</th>\n",
       "      <th>15</th>\n",
       "      <th>16</th>\n",
       "      <th>17</th>\n",
       "      <th>18</th>\n",
       "      <th>19</th>\n",
       "      <th>20</th>\n",
       "    </tr>\n",
       "  </thead>\n",
       "  <tbody>\n",
       "    <tr>\n",
       "      <th>0</th>\n",
       "      <td>354</td>\n",
       "      <td>monojet_Zp2000.0_DM_50.0</td>\n",
       "      <td>0.000024</td>\n",
       "      <td>832841.0</td>\n",
       "      <td>-1.224310</td>\n",
       "      <td>b,947383,824498,-0.523103,1.64421</td>\n",
       "      <td>j,258722,243675,0.328962,2.25014</td>\n",
       "      <td>j,520092,108590,-2.2473,-1.85679</td>\n",
       "      <td>j,383024,88405.6,2.14516,-1.95635</td>\n",
       "      <td>j,39507.6,35365.1,0.47046,-1.16445</td>\n",
       "      <td>...</td>\n",
       "      <td>0</td>\n",
       "      <td>0</td>\n",
       "      <td>0</td>\n",
       "      <td>0</td>\n",
       "      <td>0</td>\n",
       "      <td>0</td>\n",
       "      <td>0.0</td>\n",
       "      <td>0.0</td>\n",
       "      <td>0.0</td>\n",
       "      <td>0.0</td>\n",
       "    </tr>\n",
       "    <tr>\n",
       "      <th>1</th>\n",
       "      <td>354</td>\n",
       "      <td>monojet_Zp2000.0_DM_50.0</td>\n",
       "      <td>0.000024</td>\n",
       "      <td>732115.0</td>\n",
       "      <td>1.172450</td>\n",
       "      <td>j,1.06946e+06,751597,0.858186,-1.84217</td>\n",
       "      <td>j,457647,110079,2.10287,2.17501</td>\n",
       "      <td>j,49649.1,30875.2,-1.03189,-1.7992</td>\n",
       "      <td>0</td>\n",
       "      <td>0</td>\n",
       "      <td>...</td>\n",
       "      <td>0</td>\n",
       "      <td>0</td>\n",
       "      <td>0</td>\n",
       "      <td>0</td>\n",
       "      <td>0</td>\n",
       "      <td>0</td>\n",
       "      <td>0.0</td>\n",
       "      <td>0.0</td>\n",
       "      <td>0.0</td>\n",
       "      <td>0.0</td>\n",
       "    </tr>\n",
       "    <tr>\n",
       "      <th>2</th>\n",
       "      <td>354</td>\n",
       "      <td>monojet_Zp2000.0_DM_50.0</td>\n",
       "      <td>0.000024</td>\n",
       "      <td>1056280.0</td>\n",
       "      <td>-3.067440</td>\n",
       "      <td>j,676000,640429,0.33045,0.704554</td>\n",
       "      <td>j,1.2393e+06,602104,1.34324,-0.550856</td>\n",
       "      <td>j,193865,44825.7,-2.14231,-0.965933</td>\n",
       "      <td>j,28217.2,24926.6,-0.454264,0.516676</td>\n",
       "      <td>0</td>\n",
       "      <td>...</td>\n",
       "      <td>0</td>\n",
       "      <td>0</td>\n",
       "      <td>0</td>\n",
       "      <td>0</td>\n",
       "      <td>0</td>\n",
       "      <td>0</td>\n",
       "      <td>0.0</td>\n",
       "      <td>0.0</td>\n",
       "      <td>0.0</td>\n",
       "      <td>0.0</td>\n",
       "    </tr>\n",
       "    <tr>\n",
       "      <th>3</th>\n",
       "      <td>354</td>\n",
       "      <td>monojet_Zp2000.0_DM_50.0</td>\n",
       "      <td>0.000024</td>\n",
       "      <td>631781.0</td>\n",
       "      <td>1.641810</td>\n",
       "      <td>j,936707,616229,0.973383,-1.56592</td>\n",
       "      <td>j,75998,52304.3,0.905489,-0.806736</td>\n",
       "      <td>0</td>\n",
       "      <td>0</td>\n",
       "      <td>0</td>\n",
       "      <td>...</td>\n",
       "      <td>0</td>\n",
       "      <td>0</td>\n",
       "      <td>0</td>\n",
       "      <td>0</td>\n",
       "      <td>0</td>\n",
       "      <td>0</td>\n",
       "      <td>0.0</td>\n",
       "      <td>0.0</td>\n",
       "      <td>0.0</td>\n",
       "      <td>0.0</td>\n",
       "    </tr>\n",
       "    <tr>\n",
       "      <th>4</th>\n",
       "      <td>354</td>\n",
       "      <td>monojet_Zp2000.0_DM_50.0</td>\n",
       "      <td>0.000024</td>\n",
       "      <td>457316.0</td>\n",
       "      <td>-1.875360</td>\n",
       "      <td>j,640313,589524,0.390749,1.23734</td>\n",
       "      <td>j,332790,126272,1.61998,-1.85524</td>\n",
       "      <td>0</td>\n",
       "      <td>0</td>\n",
       "      <td>0</td>\n",
       "      <td>...</td>\n",
       "      <td>0</td>\n",
       "      <td>0</td>\n",
       "      <td>0</td>\n",
       "      <td>0</td>\n",
       "      <td>0</td>\n",
       "      <td>0</td>\n",
       "      <td>0.0</td>\n",
       "      <td>0.0</td>\n",
       "      <td>0.0</td>\n",
       "      <td>0.0</td>\n",
       "    </tr>\n",
       "    <tr>\n",
       "      <th>...</th>\n",
       "      <td>...</td>\n",
       "      <td>...</td>\n",
       "      <td>...</td>\n",
       "      <td>...</td>\n",
       "      <td>...</td>\n",
       "      <td>...</td>\n",
       "      <td>...</td>\n",
       "      <td>...</td>\n",
       "      <td>...</td>\n",
       "      <td>...</td>\n",
       "      <td>...</td>\n",
       "      <td>...</td>\n",
       "      <td>...</td>\n",
       "      <td>...</td>\n",
       "      <td>...</td>\n",
       "      <td>...</td>\n",
       "      <td>...</td>\n",
       "      <td>...</td>\n",
       "      <td>...</td>\n",
       "      <td>...</td>\n",
       "      <td>...</td>\n",
       "    </tr>\n",
       "    <tr>\n",
       "      <th>6394</th>\n",
       "      <td>354</td>\n",
       "      <td>monojet_Zp2000.0_DM_50.0</td>\n",
       "      <td>0.000024</td>\n",
       "      <td>914355.0</td>\n",
       "      <td>1.529030</td>\n",
       "      <td>j,1.11994e+06,1.01269e+06,0.453265,-1.77278</td>\n",
       "      <td>b,246762,95229.6,1.60511,-0.520258</td>\n",
       "      <td>j,402070,77864.5,2.32445,0.92948</td>\n",
       "      <td>j,74709.2,69979.3,0.359168,0.94458</td>\n",
       "      <td>0</td>\n",
       "      <td>...</td>\n",
       "      <td>0</td>\n",
       "      <td>0</td>\n",
       "      <td>0</td>\n",
       "      <td>0</td>\n",
       "      <td>0</td>\n",
       "      <td>0</td>\n",
       "      <td>0.0</td>\n",
       "      <td>0.0</td>\n",
       "      <td>0.0</td>\n",
       "      <td>0.0</td>\n",
       "    </tr>\n",
       "    <tr>\n",
       "      <th>6395</th>\n",
       "      <td>354</td>\n",
       "      <td>monojet_Zp2000.0_DM_50.0</td>\n",
       "      <td>0.000024</td>\n",
       "      <td>782256.0</td>\n",
       "      <td>-1.207510</td>\n",
       "      <td>j,1.91509e+06,874869,1.41855,1.83927</td>\n",
       "      <td>j,156224,152161,-0.222571,-1.83395</td>\n",
       "      <td>j,102296,64861.3,1.02478,0.412515</td>\n",
       "      <td>j,421972,37149.5,-3.12086,2.50949</td>\n",
       "      <td>0</td>\n",
       "      <td>...</td>\n",
       "      <td>0</td>\n",
       "      <td>0</td>\n",
       "      <td>0</td>\n",
       "      <td>0</td>\n",
       "      <td>0</td>\n",
       "      <td>0</td>\n",
       "      <td>0.0</td>\n",
       "      <td>0.0</td>\n",
       "      <td>0.0</td>\n",
       "      <td>0.0</td>\n",
       "    </tr>\n",
       "    <tr>\n",
       "      <th>6396</th>\n",
       "      <td>354</td>\n",
       "      <td>monojet_Zp2000.0_DM_50.0</td>\n",
       "      <td>0.000024</td>\n",
       "      <td>645619.0</td>\n",
       "      <td>-2.483990</td>\n",
       "      <td>j,787964,263158,1.75981,0.456786</td>\n",
       "      <td>j,408087,258903,-1.0269,1.53073</td>\n",
       "      <td>j,1.42801e+06,204716,-2.63018,-0.253528</td>\n",
       "      <td>j,75924.4,63520.6,-0.586197,0.84639</td>\n",
       "      <td>j,54710.9,47683.2,0.527799,-1.58165</td>\n",
       "      <td>...</td>\n",
       "      <td>j,170938,28409.1,-2.47968,2.38334</td>\n",
       "      <td>j,43035.2,26973.3,-1.02803,0.105967</td>\n",
       "      <td>0</td>\n",
       "      <td>0</td>\n",
       "      <td>0</td>\n",
       "      <td>0</td>\n",
       "      <td>0.0</td>\n",
       "      <td>0.0</td>\n",
       "      <td>0.0</td>\n",
       "      <td>0.0</td>\n",
       "    </tr>\n",
       "    <tr>\n",
       "      <th>6397</th>\n",
       "      <td>354</td>\n",
       "      <td>monojet_Zp2000.0_DM_50.0</td>\n",
       "      <td>0.000024</td>\n",
       "      <td>632390.0</td>\n",
       "      <td>-0.975687</td>\n",
       "      <td>j,731849,722541,-0.134499,2.56393</td>\n",
       "      <td>j,268828,259144,0.153813,0.578428</td>\n",
       "      <td>j,153340,43931.5,1.92014,-0.237382</td>\n",
       "      <td>0</td>\n",
       "      <td>0</td>\n",
       "      <td>...</td>\n",
       "      <td>0</td>\n",
       "      <td>0</td>\n",
       "      <td>0</td>\n",
       "      <td>0</td>\n",
       "      <td>0</td>\n",
       "      <td>0</td>\n",
       "      <td>0.0</td>\n",
       "      <td>0.0</td>\n",
       "      <td>0.0</td>\n",
       "      <td>0.0</td>\n",
       "    </tr>\n",
       "    <tr>\n",
       "      <th>6398</th>\n",
       "      <td>354</td>\n",
       "      <td>monojet_Zp2000.0_DM_50.0</td>\n",
       "      <td>0.000024</td>\n",
       "      <td>820060.0</td>\n",
       "      <td>-0.043785</td>\n",
       "      <td>j,893689,742040,-0.618057,-3.10466</td>\n",
       "      <td>j,107526,106995,-0.0485649,2.43606</td>\n",
       "      <td>0</td>\n",
       "      <td>0</td>\n",
       "      <td>0</td>\n",
       "      <td>...</td>\n",
       "      <td>0</td>\n",
       "      <td>0</td>\n",
       "      <td>0</td>\n",
       "      <td>0</td>\n",
       "      <td>0</td>\n",
       "      <td>0</td>\n",
       "      <td>0.0</td>\n",
       "      <td>0.0</td>\n",
       "      <td>0.0</td>\n",
       "      <td>0.0</td>\n",
       "    </tr>\n",
       "  </tbody>\n",
       "</table>\n",
       "<p>6399 rows × 21 columns</p>\n",
       "</div>"
      ],
      "text/plain": [
       "        0                         1         2          3         4  \\\n",
       "0     354  monojet_Zp2000.0_DM_50.0  0.000024   832841.0 -1.224310   \n",
       "1     354  monojet_Zp2000.0_DM_50.0  0.000024   732115.0  1.172450   \n",
       "2     354  monojet_Zp2000.0_DM_50.0  0.000024  1056280.0 -3.067440   \n",
       "3     354  monojet_Zp2000.0_DM_50.0  0.000024   631781.0  1.641810   \n",
       "4     354  monojet_Zp2000.0_DM_50.0  0.000024   457316.0 -1.875360   \n",
       "...   ...                       ...       ...        ...       ...   \n",
       "6394  354  monojet_Zp2000.0_DM_50.0  0.000024   914355.0  1.529030   \n",
       "6395  354  monojet_Zp2000.0_DM_50.0  0.000024   782256.0 -1.207510   \n",
       "6396  354  monojet_Zp2000.0_DM_50.0  0.000024   645619.0 -2.483990   \n",
       "6397  354  monojet_Zp2000.0_DM_50.0  0.000024   632390.0 -0.975687   \n",
       "6398  354  monojet_Zp2000.0_DM_50.0  0.000024   820060.0 -0.043785   \n",
       "\n",
       "                                                5  \\\n",
       "0               b,947383,824498,-0.523103,1.64421   \n",
       "1          j,1.06946e+06,751597,0.858186,-1.84217   \n",
       "2                j,676000,640429,0.33045,0.704554   \n",
       "3               j,936707,616229,0.973383,-1.56592   \n",
       "4                j,640313,589524,0.390749,1.23734   \n",
       "...                                           ...   \n",
       "6394  j,1.11994e+06,1.01269e+06,0.453265,-1.77278   \n",
       "6395         j,1.91509e+06,874869,1.41855,1.83927   \n",
       "6396             j,787964,263158,1.75981,0.456786   \n",
       "6397            j,731849,722541,-0.134499,2.56393   \n",
       "6398           j,893689,742040,-0.618057,-3.10466   \n",
       "\n",
       "                                          6  \\\n",
       "0          j,258722,243675,0.328962,2.25014   \n",
       "1           j,457647,110079,2.10287,2.17501   \n",
       "2     j,1.2393e+06,602104,1.34324,-0.550856   \n",
       "3        j,75998,52304.3,0.905489,-0.806736   \n",
       "4          j,332790,126272,1.61998,-1.85524   \n",
       "...                                     ...   \n",
       "6394     b,246762,95229.6,1.60511,-0.520258   \n",
       "6395     j,156224,152161,-0.222571,-1.83395   \n",
       "6396        j,408087,258903,-1.0269,1.53073   \n",
       "6397      j,268828,259144,0.153813,0.578428   \n",
       "6398     j,107526,106995,-0.0485649,2.43606   \n",
       "\n",
       "                                            7  \\\n",
       "0            j,520092,108590,-2.2473,-1.85679   \n",
       "1          j,49649.1,30875.2,-1.03189,-1.7992   \n",
       "2         j,193865,44825.7,-2.14231,-0.965933   \n",
       "3                                           0   \n",
       "4                                           0   \n",
       "...                                       ...   \n",
       "6394         j,402070,77864.5,2.32445,0.92948   \n",
       "6395        j,102296,64861.3,1.02478,0.412515   \n",
       "6396  j,1.42801e+06,204716,-2.63018,-0.253528   \n",
       "6397       j,153340,43931.5,1.92014,-0.237382   \n",
       "6398                                        0   \n",
       "\n",
       "                                         8  \\\n",
       "0        j,383024,88405.6,2.14516,-1.95635   \n",
       "1                                        0   \n",
       "2     j,28217.2,24926.6,-0.454264,0.516676   \n",
       "3                                        0   \n",
       "4                                        0   \n",
       "...                                    ...   \n",
       "6394    j,74709.2,69979.3,0.359168,0.94458   \n",
       "6395     j,421972,37149.5,-3.12086,2.50949   \n",
       "6396   j,75924.4,63520.6,-0.586197,0.84639   \n",
       "6397                                     0   \n",
       "6398                                     0   \n",
       "\n",
       "                                        9  ...  \\\n",
       "0      j,39507.6,35365.1,0.47046,-1.16445  ...   \n",
       "1                                       0  ...   \n",
       "2                                       0  ...   \n",
       "3                                       0  ...   \n",
       "4                                       0  ...   \n",
       "...                                   ...  ...   \n",
       "6394                                    0  ...   \n",
       "6395                                    0  ...   \n",
       "6396  j,54710.9,47683.2,0.527799,-1.58165  ...   \n",
       "6397                                    0  ...   \n",
       "6398                                    0  ...   \n",
       "\n",
       "                                     11                                   12  \\\n",
       "0                                     0                                    0   \n",
       "1                                     0                                    0   \n",
       "2                                     0                                    0   \n",
       "3                                     0                                    0   \n",
       "4                                     0                                    0   \n",
       "...                                 ...                                  ...   \n",
       "6394                                  0                                    0   \n",
       "6395                                  0                                    0   \n",
       "6396  j,170938,28409.1,-2.47968,2.38334  j,43035.2,26973.3,-1.02803,0.105967   \n",
       "6397                                  0                                    0   \n",
       "6398                                  0                                    0   \n",
       "\n",
       "     13 14 15 16   17   18   19   20  \n",
       "0     0  0  0  0  0.0  0.0  0.0  0.0  \n",
       "1     0  0  0  0  0.0  0.0  0.0  0.0  \n",
       "2     0  0  0  0  0.0  0.0  0.0  0.0  \n",
       "3     0  0  0  0  0.0  0.0  0.0  0.0  \n",
       "4     0  0  0  0  0.0  0.0  0.0  0.0  \n",
       "...  .. .. .. ..  ...  ...  ...  ...  \n",
       "6394  0  0  0  0  0.0  0.0  0.0  0.0  \n",
       "6395  0  0  0  0  0.0  0.0  0.0  0.0  \n",
       "6396  0  0  0  0  0.0  0.0  0.0  0.0  \n",
       "6397  0  0  0  0  0.0  0.0  0.0  0.0  \n",
       "6398  0  0  0  0  0.0  0.0  0.0  0.0  \n",
       "\n",
       "[6399 rows x 21 columns]"
      ]
     },
     "execution_count": 3,
     "metadata": {},
     "output_type": "execute_result"
    }
   ],
   "source": [
    "#Raw dataset\n",
    "df"
   ]
  },
  {
   "cell_type": "markdown",
   "metadata": {},
   "source": [
    "#### Processing dataset step\n",
    "Iterating over the rows of raw dataset, checking every object from 5th column, as before that the cells have values of event ID; process ID; event weight; MET; METphi;\n",
    "Checking if per event we have more than one object of jet-type and then forming the processes dataset."
   ]
  },
  {
   "cell_type": "code",
   "execution_count": 48,
   "metadata": {},
   "outputs": [],
   "source": [
    "row_count,col_count=df.shape\n",
    "\n",
    "data=pd.DataFrame(columns = [ 'E', 'pt', 'eta', 'phi'])\n",
    "\n",
    "for i in range(row_count):\n",
    "    for j in range(5,21):\n",
    "        val=str(df.iloc[i,j]).split(\",\")                   #spliting the dataframe cell value to form the list\n",
    "        if(val[0]=='j'):                                   #checking whether object is of j-type\n",
    "            data = data.append({'E'  :  float(val[1]),     #appending processed dataset with the values\n",
    "                                'pt' :  float(val[2]), \n",
    "                                'eta':  float(val[3]),\n",
    "                                'phi':  float(val[4])},  \n",
    "                                 ignore_index = True) \n",
    "\n"
   ]
  },
  {
   "cell_type": "markdown",
   "metadata": {},
   "source": [
    "Random sampling of training and testing dataset, divided into 90% as training data and remaining as testing data\n"
   ]
  },
  {
   "cell_type": "code",
   "execution_count": 85,
   "metadata": {},
   "outputs": [
    {
     "name": "stdout",
     "output_type": "stream",
     "text": [
      "Entries in the train dataset 18129\n",
      "Entries in the test dataset 4532\n"
     ]
    }
   ],
   "source": [
    "train = data.sample(frac = 0.80) \n",
    "test = data.drop(train.index) \n",
    "print(\"Entries in the train dataset\",  len(train))\n",
    "print(\"Entries in the test dataset\",  len(test))\n"
   ]
  },
  {
   "cell_type": "code",
   "execution_count": 59,
   "metadata": {},
   "outputs": [
    {
     "data": {
      "text/html": [
       "<div>\n",
       "<style scoped>\n",
       "    .dataframe tbody tr th:only-of-type {\n",
       "        vertical-align: middle;\n",
       "    }\n",
       "\n",
       "    .dataframe tbody tr th {\n",
       "        vertical-align: top;\n",
       "    }\n",
       "\n",
       "    .dataframe thead th {\n",
       "        text-align: right;\n",
       "    }\n",
       "</style>\n",
       "<table border=\"1\" class=\"dataframe\">\n",
       "  <thead>\n",
       "    <tr style=\"text-align: right;\">\n",
       "      <th></th>\n",
       "      <th>E</th>\n",
       "      <th>pt</th>\n",
       "      <th>eta</th>\n",
       "      <th>phi</th>\n",
       "    </tr>\n",
       "  </thead>\n",
       "  <tbody>\n",
       "    <tr>\n",
       "      <th>5246</th>\n",
       "      <td>623189.0</td>\n",
       "      <td>345188.0</td>\n",
       "      <td>-1.193850</td>\n",
       "      <td>1.435460</td>\n",
       "    </tr>\n",
       "    <tr>\n",
       "      <th>5664</th>\n",
       "      <td>63688.8</td>\n",
       "      <td>59240.2</td>\n",
       "      <td>-0.375610</td>\n",
       "      <td>-1.079960</td>\n",
       "    </tr>\n",
       "    <tr>\n",
       "      <th>11683</th>\n",
       "      <td>292137.0</td>\n",
       "      <td>277513.0</td>\n",
       "      <td>-0.300107</td>\n",
       "      <td>2.862720</td>\n",
       "    </tr>\n",
       "    <tr>\n",
       "      <th>16048</th>\n",
       "      <td>406407.0</td>\n",
       "      <td>160784.0</td>\n",
       "      <td>1.577690</td>\n",
       "      <td>2.320900</td>\n",
       "    </tr>\n",
       "    <tr>\n",
       "      <th>11102</th>\n",
       "      <td>108648.0</td>\n",
       "      <td>39898.4</td>\n",
       "      <td>1.650420</td>\n",
       "      <td>-0.174496</td>\n",
       "    </tr>\n",
       "    <tr>\n",
       "      <th>...</th>\n",
       "      <td>...</td>\n",
       "      <td>...</td>\n",
       "      <td>...</td>\n",
       "      <td>...</td>\n",
       "    </tr>\n",
       "    <tr>\n",
       "      <th>2392</th>\n",
       "      <td>154050.0</td>\n",
       "      <td>26078.6</td>\n",
       "      <td>2.461530</td>\n",
       "      <td>-0.909246</td>\n",
       "    </tr>\n",
       "    <tr>\n",
       "      <th>14928</th>\n",
       "      <td>57937.1</td>\n",
       "      <td>56654.4</td>\n",
       "      <td>-0.153153</td>\n",
       "      <td>-2.347390</td>\n",
       "    </tr>\n",
       "    <tr>\n",
       "      <th>9213</th>\n",
       "      <td>621846.0</td>\n",
       "      <td>612722.0</td>\n",
       "      <td>0.081034</td>\n",
       "      <td>1.593600</td>\n",
       "    </tr>\n",
       "    <tr>\n",
       "      <th>13359</th>\n",
       "      <td>931122.0</td>\n",
       "      <td>892526.0</td>\n",
       "      <td>0.167900</td>\n",
       "      <td>-1.609610</td>\n",
       "    </tr>\n",
       "    <tr>\n",
       "      <th>5220</th>\n",
       "      <td>109358.0</td>\n",
       "      <td>67598.9</td>\n",
       "      <td>1.049690</td>\n",
       "      <td>2.764240</td>\n",
       "    </tr>\n",
       "  </tbody>\n",
       "</table>\n",
       "<p>18129 rows × 4 columns</p>\n",
       "</div>"
      ],
      "text/plain": [
       "              E        pt       eta       phi\n",
       "5246   623189.0  345188.0 -1.193850  1.435460\n",
       "5664    63688.8   59240.2 -0.375610 -1.079960\n",
       "11683  292137.0  277513.0 -0.300107  2.862720\n",
       "16048  406407.0  160784.0  1.577690  2.320900\n",
       "11102  108648.0   39898.4  1.650420 -0.174496\n",
       "...         ...       ...       ...       ...\n",
       "2392   154050.0   26078.6  2.461530 -0.909246\n",
       "14928   57937.1   56654.4 -0.153153 -2.347390\n",
       "9213   621846.0  612722.0  0.081034  1.593600\n",
       "13359  931122.0  892526.0  0.167900 -1.609610\n",
       "5220   109358.0   67598.9  1.049690  2.764240\n",
       "\n",
       "[18129 rows x 4 columns]"
      ]
     },
     "execution_count": 59,
     "metadata": {},
     "output_type": "execute_result"
    }
   ],
   "source": [
    "train"
   ]
  },
  {
   "cell_type": "markdown",
   "metadata": {},
   "source": [
    "Plotting the data using Matplot library for the objects present."
   ]
  },
  {
   "cell_type": "code",
   "execution_count": 60,
   "metadata": {
    "scrolled": false
   },
   "outputs": [
    {
     "data": {
      "image/png": "[encoded data removed]",
      "text/plain": [
       "<Figure size 432x288 with 1 Axes>"
      ]
     },
     "metadata": {
      "needs_background": "light"
     },
     "output_type": "display_data"
    },
    {
     "data": {
      "image/png": "[encoded data removed]",
      "text/plain": [
       "<Figure size 432x288 with 1 Axes>"
      ]
     },
     "metadata": {
      "needs_background": "light"
     },
     "output_type": "display_data"
    },
    {
     "data": {
      "image/png": "[encoded data removed]",
      "text/plain": [
       "<Figure size 432x288 with 1 Axes>"
      ]
     },
     "metadata": {
      "needs_background": "light"
     },
     "output_type": "display_data"
    },
    {
     "data": {
      "image/png": "[encoded data removed]",
      "text/plain": [
       "<Figure size 432x288 with 1 Axes>"
      ]
     },
     "metadata": {
      "needs_background": "light"
     },
     "output_type": "display_data"
    }
   ],
   "source": [
    "import os\n",
    "save_dir = \"plotOutput\"\n",
    "if not os.path.exists(save_dir):\n",
    "    os.makedirs(save_dir)\n",
    "import numpy as np\n",
    "import matplotlib.pyplot as plt\n",
    "\n",
    "unit_list = ['[log(GeV)]', '[log(GeV)]', '[rad/3]', '[rad/3]']\n",
    "variable_list = [r'$E$', r'$p_T$', r'$\\eta$', r'$phi$']\n",
    "\n",
    "branches=[\"E\",\"pt\",\"eta\",\"phi\"]\n",
    "\n",
    "n_bins = 100\n",
    "\n",
    "for kk in range(0,4):\n",
    "    n_hist_data, bin_edges, _ = plt.hist(train[branches[kk]], color='gray', label='Input', alpha=1, bins=n_bins)\n",
    "    plt.xlabel(xlabel=variable_list[kk] + ' ' + unit_list[kk])\n",
    "    plt.ylabel('# of events')\n",
    "    plt.show()"
   ]
  },
  {
   "cell_type": "markdown",
   "metadata": {},
   "source": [
    "#### Normalization\n",
    "Normalization is to scaling the values by modifying to use a common scale, without distorting differences in the ranges of values or losing information. We use standarization(z-score normalization) or max-min normalization for the scaling purposes.\n",
    "\n",
    "In max-min normalization we scale by,\n",
    "![https://miro.medium.com/max/341/1*DWktiIdq6yax8aV40cWpTg.png](https://miro.medium.com/max/341/1*DWktiIdq6yax8aV40cWpTg.png)\n",
    "\n",
    "In z-score normalization, we scale by,\n",
    "![https://miro.medium.com/max/400/1*13XKCXQc7eabfZbRzkvGvA.gif](https://miro.medium.com/max/400/1*13XKCXQc7eabfZbRzkvGvA.gif)"
   ]
  },
  {
   "cell_type": "code",
   "execution_count": 86,
   "metadata": {},
   "outputs": [],
   "source": [
    "mean = train.mean()\n",
    "std = train.std()\n",
    "\n",
    "train_data = (train - mean) / std   #z-score normalizing training input data\n",
    "test_data = (test - mean) / std     #z-score normalizing testing input data"
   ]
  },
  {
   "cell_type": "code",
   "execution_count": 87,
   "metadata": {},
   "outputs": [
    {
     "data": {
      "image/png": "[encoded data removed]",
      "text/plain": [
       "<Figure size 432x288 with 1 Axes>"
      ]
     },
     "metadata": {
      "needs_background": "light"
     },
     "output_type": "display_data"
    },
    {
     "data": {
      "image/png": "[encoded data removed]",
      "text/plain": [
       "<Figure size 432x288 with 1 Axes>"
      ]
     },
     "metadata": {
      "needs_background": "light"
     },
     "output_type": "display_data"
    },
    {
     "data": {
      "image/png": "[encoded data removed]",
      "text/plain": [
       "<Figure size 432x288 with 1 Axes>"
      ]
     },
     "metadata": {
      "needs_background": "light"
     },
     "output_type": "display_data"
    },
    {
     "data": {
      "image/png": "[encoded data removed]",
      "text/plain": [
       "<Figure size 432x288 with 1 Axes>"
      ]
     },
     "metadata": {
      "needs_background": "light"
     },
     "output_type": "display_data"
    }
   ],
   "source": [
    "unit_list = ['[log(GeV)]', '[log(GeV)]', '[rad/3]', '[rad/3]']\n",
    "variable_list = [r'$E$', r'$p_T$', r'$\\eta$', r'$phi$']\n",
    "\n",
    "branches=[\"E\",\"pt\",\"eta\",\"phi\"]\n",
    "\n",
    "n_bins = 100\n",
    "\n",
    "for kk in range(0,4):\n",
    "    n_hist_data, bin_edges, _ = plt.hist(train_data[branches[kk]], color='gray', label='Input', alpha=1, bins=n_bins)\n",
    "    plt.xlabel(xlabel=variable_list[kk] + ' ' + unit_list[kk])\n",
    "    plt.ylabel('# of events')\n",
    "    plt.show()"
   ]
  },
  {
   "cell_type": "markdown",
   "metadata": {},
   "source": [
    "#### Setting up the network\n",
    "##### Preparing the data\n",
    "Forming the TensorDatasets from adding the two datasets using PyTorch. also importing other libraries and packages."
   ]
  },
  {
   "cell_type": "code",
   "execution_count": 88,
   "metadata": {},
   "outputs": [],
   "source": [
    "import torch\n",
    "import torch.nn as nn\n",
    "import torch.optim as optim\n",
    "import torch.utils.data\n",
    "from torch.autograd import Variable\n",
    "\n",
    "from torch.utils.data import TensorDataset\n",
    "from torch.utils.data import DataLoader\n",
    "\n",
    "from fastai import learner\n",
    "from fastai.data import core\n",
    "\n",
    "train_x = train_data\n",
    "test_x = test_data\n",
    "train_y = train_x   # y = x since we are building an autoencoder\n",
    "test_y = test_x\n",
    "\n",
    "# Constructs a tensor object of the data and wraps them in a TensorDataset object.\n",
    "train_ds = TensorDataset(torch.tensor(train_x.values, dtype=torch.float), torch.tensor(train_y.values, dtype=torch.float))\n",
    "valid_ds = TensorDataset(torch.tensor(test_x.values, dtype=torch.float), torch.tensor(test_y.values, dtype=torch.float))"
   ]
  },
  {
   "cell_type": "markdown",
   "metadata": {},
   "source": [
    "Fixing the batch size and further dividing into batches.Batch Size is a hyperparameter specifying the number of samples to work or pass into the network before updating the model parameters."
   ]
  },
  {
   "cell_type": "code",
   "execution_count": 89,
   "metadata": {},
   "outputs": [],
   "source": [
    "bs = 256\n",
    "\n",
    "# Converts the TensorDataset into a DataLoader object and combines into one DataLoaders object (a basic wrapper\n",
    "# around several DataLoader objects). \n",
    "train_dl = DataLoader(train_ds, batch_size=bs, shuffle=True)\n",
    "valid_dl = DataLoader(valid_ds, batch_size=bs * 2)\n",
    "dls = core.DataLoaders(train_dl, valid_dl)\n"
   ]
  },
  {
   "cell_type": "markdown",
   "metadata": {},
   "source": [
    "### Preparing the Network\n",
    "Here we design the required neural network for the autoencoder. Here we have a LeakyReLU, tanh activation function,  which is used to add non-linearity. Layers goes from 4 to 200 to 20 to 3 for the encoder part and same in reverse order for the decoder part, where the 4 variables are compressed to 3 after the  encoder and can be again decompressed using the decoder network.\n",
    "\n",
    "Below figure shows a diagrammatic view of the created neural network where the encoder part is till Hidden layer 4 and after that the decoder network starts.\n",
    "\n",
    "Layers for 200 nodes are scaled to 50 for easier visual representation and understanding.\n",
    "![autoencoder_fig.png](autoencoder_fig.png)\n",
    "\n"
   ]
  },
  {
   "cell_type": "code",
   "execution_count": 30,
   "metadata": {},
   "outputs": [
    {
     "data": {
      "text/plain": [
       "AE_3D_200_LeakyReLU(\n",
       "  (en1): Linear(in_features=4, out_features=200, bias=True)\n",
       "  (en2): Linear(in_features=200, out_features=200, bias=True)\n",
       "  (en3): Linear(in_features=200, out_features=20, bias=True)\n",
       "  (en4): Linear(in_features=20, out_features=3, bias=True)\n",
       "  (de1): Linear(in_features=3, out_features=20, bias=True)\n",
       "  (de2): Linear(in_features=20, out_features=200, bias=True)\n",
       "  (de3): Linear(in_features=200, out_features=200, bias=True)\n",
       "  (de4): Linear(in_features=200, out_features=4, bias=True)\n",
       "  (tanh): Tanh()\n",
       ")"
      ]
     },
     "execution_count": 30,
     "metadata": {},
     "output_type": "execute_result"
    }
   ],
   "source": [
    "class AE_3D_200_LeakyReLU(nn.Module):\n",
    "    def __init__(self, n_features=4):\n",
    "        super(AE_3D_200_LeakyReLU, self).__init__()\n",
    "        self.en1 = nn.Linear(n_features, 200)\n",
    "        self.en2 = nn.Linear(200, 200)\n",
    "        self.en3 = nn.Linear(200, 20)\n",
    "        self.en4 = nn.Linear(20, 3)\n",
    "        self.de1 = nn.Linear(3, 20)\n",
    "        self.de2 = nn.Linear(20, 200)\n",
    "        self.de3 = nn.Linear(200, 200)\n",
    "        self.de4 = nn.Linear(200, n_features)\n",
    "        self.tanh = nn.Tanh()\n",
    "\n",
    "    def encode(self, x):\n",
    "        return self.en4(self.tanh(self.en3(self.tanh(self.en2(self.tanh(self.en1(x)))))))\n",
    "\n",
    "    def decode(self, x):\n",
    "        return self.de4(self.tanh(self.de3(self.tanh(self.de2(self.tanh(self.de1(self.tanh(x))))))))\n",
    "\n",
    "    def forward(self, x):\n",
    "        z = self.encode(x)\n",
    "        return self.decode(z)\n",
    "\n",
    "    def describe(self):\n",
    "        return 'in-200-200-20-3-20-200-200-out'\n",
    "\n",
    "\n",
    "model = AE_3D_200_LeakyReLU()\n",
    "model.to('cpu')"
   ]
  },
  {
   "cell_type": "markdown",
   "metadata": {},
   "source": [
    "Now we define a loss function. Here we choose MSE loss which stands for Mean Squared Error loss, defined as\n",
    "![https://miro.medium.com/max/404/1*-e1QGatrODWpJkEwqP4Jyg.png](https://miro.medium.com/max/404/1*-e1QGatrODWpJkEwqP4Jyg.png)\n",
    "\n",
    "MSE Loss is appropriate for a compression autoencoder as it reflects the [(input-output)/input] physical quantity that we want to minimize.\n"
   ]
  },
  {
   "cell_type": "code",
   "execution_count": 31,
   "metadata": {},
   "outputs": [],
   "source": [
    "from fastai.metrics import mse\n",
    "\n",
    "loss_func = nn.MSELoss()\n",
    "\n",
    "#bn_wd = False  # Don't use weight decay for batchnorm layers\n",
    "#true_wd = True  # weight decay will be used for all optimizers\n",
    "wd = 1e-6\n",
    "\n",
    "recorder = learner.Recorder()\n",
    "learn = learner.Learner(dls, model=model, wd=wd, loss_func=loss_func, cbs=recorder)\n"
   ]
  },
  {
   "cell_type": "markdown",
   "metadata": {},
   "source": [
    "### Training the network\n",
    "Before training the neural network, we will find the best learning rate. The learning rate is a hyper-paramater that sets how much the weights of the network will change each step with respect to the loss gradient.\n",
    "\n",
    "Then we plot the loss versus the learning rates. We're interested in finding a good order of magnitude of learning rate, so we plot with a log scale.\n",
    "\n",
    "A good value for the learning rates is then either:\n",
    "\n",
    "one tenth of the minimum before the divergence\n",
    "when the slope is the steepest"
   ]
  },
  {
   "cell_type": "code",
   "execution_count": 32,
   "metadata": {},
   "outputs": [
    {
     "name": "stdout",
     "output_type": "stream",
     "text": [
      "Learning rate with the minimum loss: 0.0033113110810518267\n",
      "Learning rate with the steepest gradient: 0.0014454397605732083\n"
     ]
    },
    {
     "data": {
      "image/png": "[encoded data removed]",
      "text/plain": [
       "<Figure size 432x288 with 1 Axes>"
      ]
     },
     "metadata": {
      "needs_background": "light"
     },
     "output_type": "display_data"
    }
   ],
   "source": [
    "from fastai.callback import schedule\n",
    "\n",
    "lr_min, lr_steep = learn.lr_find()\n",
    "\n",
    "print('Learning rate with the minimum loss:', lr_min)\n",
    "print('Learning rate with the steepest gradient:', lr_steep)"
   ]
  },
  {
   "cell_type": "markdown",
   "metadata": {},
   "source": [
    "Now we want to run the training!\n",
    "\n",
    "User-chosen variables:\n",
    "\n",
    "n_epoch: The number of epochs, i.e how many times the to run through all of the training data once (i.e the 6000 entries, see cell 2)\n",
    "lr: The learning rate. Either choose lr_min, lr_steep from above or set your own."
   ]
  },
  {
   "cell_type": "code",
   "execution_count": 33,
   "metadata": {
    "scrolled": true
   },
   "outputs": [
    {
     "name": "stdout",
     "output_type": "stream",
     "text": [
      "[0, 0.9009466767311096, 0.798266589641571, '00:00']\n",
      "[0, 0.9009466767311096, 0.798266589641571, '00:00']\n",
      "[1, 0.6169378757476807, 0.4216765761375427, '00:00']\n",
      "[1, 0.6169378757476807, 0.4216765761375427, '00:00']\n",
      "[2, 0.34434741735458374, 0.19724512100219727, '00:00']\n",
      "[2, 0.34434741735458374, 0.19724512100219727, '00:00']\n",
      "[3, 0.1996975839138031, 0.14655837416648865, '00:00']\n",
      "[3, 0.1996975839138031, 0.14655837416648865, '00:00']\n",
      "[4, 0.13833482563495636, 0.11463362723588943, '00:00']\n",
      "[4, 0.13833482563495636, 0.11463362723588943, '00:00']\n",
      "[5, 0.10170283913612366, 0.08731841295957565, '00:00']\n",
      "[5, 0.10170283913612366, 0.08731841295957565, '00:00']\n",
      "[6, 0.07931328564882278, 0.07295022159814835, '00:00']\n",
      "[6, 0.07931328564882278, 0.07295022159814835, '00:00']\n",
      "[7, 0.06399103254079819, 0.0569504052400589, '00:00']\n",
      "[7, 0.06399103254079819, 0.0569504052400589, '00:00']\n",
      "[8, 0.045120969414711, 0.03568186238408089, '00:01']\n",
      "[8, 0.045120969414711, 0.03568186238408089, '00:01']\n",
      "[9, 0.03024769015610218, 0.025358211249113083, '00:00']\n",
      "[9, 0.03024769015610218, 0.025358211249113083, '00:00']\n",
      "[10, 0.0211598239839077, 0.019145911559462547, '00:00']\n",
      "[10, 0.0211598239839077, 0.019145911559462547, '00:00']\n",
      "[11, 0.015245496295392513, 0.014258690178394318, '00:01']\n",
      "[11, 0.015245496295392513, 0.014258690178394318, '00:01']\n",
      "[12, 0.011350877583026886, 0.011341020464897156, '00:00']\n",
      "[12, 0.011350877583026886, 0.011341020464897156, '00:00']\n",
      "[13, 0.00869767926633358, 0.009611343964934349, '00:00']\n",
      "[13, 0.00869767926633358, 0.009611343964934349, '00:00']\n",
      "[14, 0.0067575122229754925, 0.006962074898183346, '00:00']\n",
      "[14, 0.0067575122229754925, 0.006962074898183346, '00:00']\n",
      "[15, 0.005251541268080473, 0.005486960057169199, '00:00']\n",
      "[15, 0.005251541268080473, 0.005486960057169199, '00:00']\n",
      "[16, 0.004045386798679829, 0.0052170162089169025, '00:00']\n",
      "[16, 0.004045386798679829, 0.0052170162089169025, '00:00']\n",
      "[17, 0.003408459248021245, 0.003942321985960007, '00:00']\n",
      "[17, 0.003408459248021245, 0.003942321985960007, '00:00']\n",
      "[18, 0.0027235643938183784, 0.006228713784366846, '00:01']\n",
      "[18, 0.0027235643938183784, 0.006228713784366846, '00:01']\n",
      "[19, 0.0027522107120603323, 0.003943786956369877, '00:00']\n",
      "[19, 0.0027522107120603323, 0.003943786956369877, '00:00']\n",
      "[20, 0.0025248383171856403, 0.0034060573671013117, '00:01']\n",
      "[20, 0.0025248383171856403, 0.0034060573671013117, '00:01']\n",
      "[21, 0.002368760760873556, 0.0022209284361451864, '00:01']\n",
      "[21, 0.002368760760873556, 0.0022209284361451864, '00:01']\n",
      "[22, 0.002258430700749159, 0.0031100730411708355, '00:00']\n",
      "[22, 0.002258430700749159, 0.0031100730411708355, '00:00']\n",
      "[23, 0.0019137689378112555, 0.0020098150707781315, '00:00']\n",
      "[23, 0.0019137689378112555, 0.0020098150707781315, '00:00']\n",
      "[24, 0.0018415857339277864, 0.006184144876897335, '00:00']\n",
      "[24, 0.0018415857339277864, 0.006184144876897335, '00:00']\n",
      "[25, 0.0019003318157047033, 0.00657193036749959, '00:00']\n",
      "[25, 0.0019003318157047033, 0.00657193036749959, '00:00']\n",
      "[26, 0.0015902253799140453, 0.0025616397615522146, '00:00']\n",
      "[26, 0.0015902253799140453, 0.0025616397615522146, '00:00']\n",
      "[27, 0.0016125207766890526, 0.003183145308867097, '00:00']\n",
      "[27, 0.0016125207766890526, 0.003183145308867097, '00:00']\n",
      "[28, 0.0017028824659064412, 0.0020966152660548687, '00:00']\n",
      "[28, 0.0017028824659064412, 0.0020966152660548687, '00:00']\n",
      "[29, 0.0015171085251495242, 0.002750508254393935, '00:00']\n",
      "[29, 0.0015171085251495242, 0.002750508254393935, '00:00']\n",
      "[30, 0.0015028180787339807, 0.0014950555050745606, '00:00']\n",
      "[30, 0.0015028180787339807, 0.0014950555050745606, '00:00']\n",
      "[31, 0.0013420822797343135, 0.001695301616564393, '00:00']\n",
      "[31, 0.0013420822797343135, 0.001695301616564393, '00:00']\n",
      "[32, 0.0015094575937837362, 0.0015611000126227736, '00:00']\n",
      "[32, 0.0015094575937837362, 0.0015611000126227736, '00:00']\n",
      "[33, 0.0012531934771686792, 0.0013078709598630667, '00:00']\n",
      "[33, 0.0012531934771686792, 0.0013078709598630667, '00:00']\n",
      "[34, 0.0010568537982180715, 0.0012310141464695334, '00:00']\n",
      "[34, 0.0010568537982180715, 0.0012310141464695334, '00:00']\n",
      "[35, 0.0011485241120681167, 0.0013819643063470721, '00:00']\n",
      "[35, 0.0011485241120681167, 0.0013819643063470721, '00:00']\n",
      "[36, 0.0010291002690792084, 0.001209600712172687, '00:00']\n",
      "[36, 0.0010291002690792084, 0.001209600712172687, '00:00']\n",
      "[37, 0.0010432262206450105, 0.0016524068778380752, '00:00']\n",
      "[37, 0.0010432262206450105, 0.0016524068778380752, '00:00']\n",
      "[38, 0.00095315370708704, 0.001077868277207017, '00:01']\n",
      "[38, 0.00095315370708704, 0.001077868277207017, '00:01']\n",
      "[39, 0.0010380229214206338, 0.0015165735967457294, '00:00']\n",
      "[39, 0.0010380229214206338, 0.0015165735967457294, '00:00']\n",
      "[40, 0.00126436329446733, 0.001163545879535377, '00:00']\n",
      "[40, 0.00126436329446733, 0.001163545879535377, '00:00']\n",
      "[41, 0.0008132755174301565, 0.0012777710799127817, '00:00']\n",
      "[41, 0.0008132755174301565, 0.0012777710799127817, '00:00']\n",
      "[42, 0.0008383770473301411, 0.0009325178689323366, '00:00']\n",
      "[42, 0.0008383770473301411, 0.0009325178689323366, '00:00']\n",
      "[43, 0.0008815380278974771, 0.001293097622692585, '00:00']\n",
      "[43, 0.0008815380278974771, 0.001293097622692585, '00:00']\n",
      "[44, 0.0006055383128114045, 0.0009284515981562436, '00:00']\n",
      "[44, 0.0006055383128114045, 0.0009284515981562436, '00:00']\n",
      "[45, 0.0006499523296952248, 0.001947199460119009, '00:00']\n",
      "[45, 0.0006499523296952248, 0.001947199460119009, '00:00']\n",
      "[46, 0.0005586484912782907, 0.0015302628744393587, '00:00']\n",
      "[46, 0.0005586484912782907, 0.0015302628744393587, '00:00']\n",
      "[47, 0.0006758254021406174, 0.000796499487478286, '00:00']\n",
      "[47, 0.0006758254021406174, 0.000796499487478286, '00:00']\n",
      "[48, 0.0005973713123239577, 0.000792388804256916, '00:00']\n",
      "[48, 0.0005973713123239577, 0.000792388804256916, '00:00']\n",
      "[49, 0.0005233626579865813, 0.0008386748959310353, '00:00']\n",
      "[49, 0.0005233626579865813, 0.0008386748959310353, '00:00']\n",
      "[50, 0.0005079295369796455, 0.000756487192120403, '00:00']\n",
      "[50, 0.0005079295369796455, 0.000756487192120403, '00:00']\n",
      "[51, 0.0004621343978215009, 0.0007371616666205227, '00:00']\n",
      "[51, 0.0004621343978215009, 0.0007371616666205227, '00:00']\n",
      "[52, 0.0004939817590638995, 0.0010252968640998006, '00:00']\n",
      "[52, 0.0004939817590638995, 0.0010252968640998006, '00:00']\n",
      "[53, 0.000459294649772346, 0.0006725303828716278, '00:01']\n",
      "[53, 0.000459294649772346, 0.0006725303828716278, '00:01']\n",
      "[54, 0.00038371633854694664, 0.0010014689760282636, '00:00']\n",
      "[54, 0.00038371633854694664, 0.0010014689760282636, '00:00']\n",
      "[55, 0.00038637989200651646, 0.0005923250573687255, '00:00']\n",
      "[55, 0.00038637989200651646, 0.0005923250573687255, '00:00']\n",
      "[56, 0.0003135329461656511, 0.0007377424044534564, '00:00']\n",
      "[56, 0.0003135329461656511, 0.0007377424044534564, '00:00']\n",
      "[57, 0.00030118331778794527, 0.0006285455892793834, '00:00']\n",
      "[57, 0.00030118331778794527, 0.0006285455892793834, '00:00']\n",
      "[58, 0.00025385088520124555, 0.0005440204404294491, '00:00']\n",
      "[58, 0.00025385088520124555, 0.0005440204404294491, '00:00']\n",
      "[59, 0.0002570317010395229, 0.0005657749134115875, '00:00']\n",
      "[59, 0.0002570317010395229, 0.0005657749134115875, '00:00']\n",
      "[60, 0.0002511539205443114, 0.0005035231006331742, '00:00']\n",
      "[60, 0.0002511539205443114, 0.0005035231006331742, '00:00']\n",
      "[61, 0.00021773083426523954, 0.000571171345654875, '00:00']\n",
      "[61, 0.00021773083426523954, 0.000571171345654875, '00:00']\n",
      "[62, 0.0002144134050467983, 0.0004195923393126577, '00:00']\n",
      "[62, 0.0002144134050467983, 0.0004195923393126577, '00:00']\n",
      "[63, 0.00016972972662188113, 0.0005226699286140501, '00:00']\n",
      "[63, 0.00016972972662188113, 0.0005226699286140501, '00:00']\n",
      "[64, 0.00018634700973052531, 0.0003893383254762739, '00:00']\n",
      "[64, 0.00018634700973052531, 0.0003893383254762739, '00:00']\n",
      "[65, 0.00016574027540627867, 0.0003661604132503271, '00:00']\n",
      "[65, 0.00016574027540627867, 0.0003661604132503271, '00:00']\n",
      "[66, 0.00013581346138380468, 0.0003317993541713804, '00:00']\n",
      "[66, 0.00013581346138380468, 0.0003317993541713804, '00:00']\n",
      "[67, 0.00013549350842367858, 0.00040128506952896714, '00:00']\n",
      "[67, 0.00013549350842367858, 0.00040128506952896714, '00:00']\n",
      "[68, 0.00012206895917188376, 0.0003582051140256226, '00:00']\n",
      "[68, 0.00012206895917188376, 0.0003582051140256226, '00:00']\n",
      "[69, 0.00014208655920810997, 0.00032007324625737965, '00:00']\n",
      "[69, 0.00014208655920810997, 0.00032007324625737965, '00:00']\n",
      "[70, 0.00010944230598397553, 0.00030570372473448515, '00:00']\n",
      "[70, 0.00010944230598397553, 0.00030570372473448515, '00:00']\n",
      "[71, 8.560602145735174e-05, 0.0003000035649165511, '00:00']\n",
      "[71, 8.560602145735174e-05, 0.0003000035649165511, '00:00']\n",
      "[72, 9.204837988363579e-05, 0.00034974294248968363, '00:00']\n",
      "[72, 9.204837988363579e-05, 0.00034974294248968363, '00:00']\n",
      "[73, 9.182883513858542e-05, 0.0002820451627485454, '00:00']\n",
      "[73, 9.182883513858542e-05, 0.0002820451627485454, '00:00']\n",
      "[74, 7.5144438596908e-05, 0.00026049523148685694, '00:00']\n",
      "[74, 7.5144438596908e-05, 0.00026049523148685694, '00:00']\n",
      "[75, 7.150920282583684e-05, 0.0002708152460400015, '00:00']\n",
      "[75, 7.150920282583684e-05, 0.0002708152460400015, '00:00']\n",
      "[76, 6.935642886674032e-05, 0.000272980920271948, '00:00']\n",
      "[76, 6.935642886674032e-05, 0.000272980920271948, '00:00']\n",
      "[77, 6.461970042437315e-05, 0.0002629170485306531, '00:00']\n",
      "[77, 6.461970042437315e-05, 0.0002629170485306531, '00:00']\n",
      "[78, 6.01842584728729e-05, 0.0002674013376235962, '00:00']\n",
      "[78, 6.01842584728729e-05, 0.0002674013376235962, '00:00']\n",
      "[79, 6.031179873389192e-05, 0.0002550410572439432, '00:00']\n",
      "[79, 6.031179873389192e-05, 0.0002550410572439432, '00:00']\n",
      "[80, 5.430347300716676e-05, 0.00023309858806896955, '00:00']\n",
      "[80, 5.430347300716676e-05, 0.00023309858806896955, '00:00']\n",
      "[81, 5.078429603599943e-05, 0.0002286873641423881, '00:00']\n",
      "[81, 5.078429603599943e-05, 0.0002286873641423881, '00:00']\n",
      "[82, 4.730371438199654e-05, 0.00023126605083234608, '00:00']\n",
      "[82, 4.730371438199654e-05, 0.00023126605083234608, '00:00']\n",
      "[83, 4.447246828931384e-05, 0.0002298198378412053, '00:00']\n",
      "[83, 4.447246828931384e-05, 0.0002298198378412053, '00:00']\n",
      "[84, 4.391914626467042e-05, 0.00022506430104840547, '00:00']\n",
      "[84, 4.391914626467042e-05, 0.00022506430104840547, '00:00']\n",
      "[85, 4.1388400859432295e-05, 0.00022055846056900918, '00:00']\n",
      "[85, 4.1388400859432295e-05, 0.00022055846056900918, '00:00']\n",
      "[86, 3.902919706888497e-05, 0.00021973790717311203, '00:00']\n",
      "[86, 3.902919706888497e-05, 0.00021973790717311203, '00:00']\n",
      "[87, 3.9831655158195645e-05, 0.00021906124311499298, '00:00']\n",
      "[87, 3.9831655158195645e-05, 0.00021906124311499298, '00:00']\n",
      "[88, 3.709830707521178e-05, 0.00021259940695017576, '00:00']\n",
      "[88, 3.709830707521178e-05, 0.00021259940695017576, '00:00']\n",
      "[89, 3.535699943313375e-05, 0.00021590451069641858, '00:00']\n",
      "[89, 3.535699943313375e-05, 0.00021590451069641858, '00:00']\n",
      "[90, 3.575335722416639e-05, 0.0002154888934455812, '00:00']\n",
      "[90, 3.575335722416639e-05, 0.0002154888934455812, '00:00']\n",
      "[91, 3.4644144761841744e-05, 0.00021032014046795666, '00:00']\n",
      "[91, 3.4644144761841744e-05, 0.00021032014046795666, '00:00']\n",
      "[92, 3.434544487390667e-05, 0.00020960472465958446, '00:00']\n",
      "[92, 3.434544487390667e-05, 0.00020960472465958446, '00:00']\n",
      "[93, 3.32459676428698e-05, 0.00020853574096690863, '00:00']\n",
      "[93, 3.32459676428698e-05, 0.00020853574096690863, '00:00']\n",
      "[94, 3.2718180591473356e-05, 0.0002056448720395565, '00:00']\n",
      "[94, 3.2718180591473356e-05, 0.0002056448720395565, '00:00']\n",
      "[95, 3.230472430004738e-05, 0.0002067683235509321, '00:01']\n",
      "[95, 3.230472430004738e-05, 0.0002067683235509321, '00:01']\n",
      "[96, 3.142624336760491e-05, 0.00020703469635918736, '00:01']\n",
      "[96, 3.142624336760491e-05, 0.00020703469635918736, '00:01']\n",
      "[97, 3.0103357858024538e-05, 0.00020722259068861604, '00:01']\n",
      "[97, 3.0103357858024538e-05, 0.00020722259068861604, '00:01']\n",
      "[98, 3.1225656130118296e-05, 0.0002065904118353501, '00:01']\n",
      "[98, 3.1225656130118296e-05, 0.0002065904118353501, '00:01']\n",
      "[99, 3.101895345025696e-05, 0.0002065367589239031, '00:01']\n",
      "[99, 3.101895345025696e-05, 0.0002065367589239031, '00:01']\n",
      "Training took 89.66341314400051 seconds\n"
     ]
    }
   ],
   "source": [
    "import time\n",
    "\n",
    "start = time.perf_counter() # Starts timer\n",
    "learn.fit_one_cycle(100)\n",
    "end = time.perf_counter() # Ends timer\n",
    "delta_t = end - start\n",
    "print('Training took', delta_t, 'seconds')"
   ]
  },
  {
   "cell_type": "markdown",
   "metadata": {},
   "source": [
    "Then we plot the loss as a function of batches and epochs to check if we reach a plateau."
   ]
  },
  {
   "cell_type": "code",
   "execution_count": 34,
   "metadata": {},
   "outputs": [
    {
     "data": {
      "image/png": "[encoded data removed]",
      "text/plain": [
       "<Figure size 432x288 with 1 Axes>"
      ]
     },
     "metadata": {
      "needs_background": "light"
     },
     "output_type": "display_data"
    }
   ],
   "source": [
    "recorder.plot_loss()\n"
   ]
  },
  {
   "cell_type": "markdown",
   "metadata": {},
   "source": [
    "Finding the MSE Error after network training"
   ]
  },
  {
   "cell_type": "code",
   "execution_count": 35,
   "metadata": {},
   "outputs": [
    {
     "data": {
      "text/plain": [
       "(#1) [0.0002065367589239031]"
      ]
     },
     "execution_count": 35,
     "metadata": {},
     "output_type": "execute_result"
    }
   ],
   "source": [
    "learn.validate()\n"
   ]
  },
  {
   "cell_type": "code",
   "execution_count": 36,
   "metadata": {},
   "outputs": [
    {
     "data": {
      "image/png": "[encoded data removed]",
      "text/plain": [
       "<Figure size 432x288 with 1 Axes>"
      ]
     },
     "metadata": {
      "needs_background": "light"
     },
     "output_type": "display_data"
    },
    {
     "data": {
      "image/png": "[encoded data removed]",
      "text/plain": [
       "<Figure size 432x288 with 1 Axes>"
      ]
     },
     "metadata": {
      "needs_background": "light"
     },
     "output_type": "display_data"
    },
    {
     "data": {
      "image/png": "[encoded data removed]",
      "text/plain": [
       "<Figure size 432x288 with 1 Axes>"
      ]
     },
     "metadata": {
      "needs_background": "light"
     },
     "output_type": "display_data"
    },
    {
     "data": {
      "image/png": "[encoded data removed]",
      "text/plain": [
       "<Figure size 432x288 with 1 Axes>"
      ]
     },
     "metadata": {
      "needs_background": "light"
     },
     "output_type": "display_data"
    }
   ],
   "source": [
    "\n",
    "plt.close('all')\n",
    "unit_list = ['[log(GeV)]', '[log(GeV)]', '[rad/3]', '[rad/3]']\n",
    "variable_list = [r'$E$', r'$p_T$', r'$\\eta$', r'$\\phi$']\n",
    "line_style = ['--', '-']\n",
    "colors = ['orange', 'c']\n",
    "markers = ['*', 's']\n",
    "\n",
    "model.to('cpu')\n",
    "\n",
    "save = False # Option to save figure\n",
    "\n",
    "# Histograms\n",
    "idxs = (0, 100000)  # Choose events to compare\n",
    "data = torch.tensor(test_data[idxs[0]:idxs[1]].values, dtype=torch.float)\n",
    "pred = model(data)\n",
    "pred = pred.detach().numpy()\n",
    "data = data.detach().numpy()\n",
    "\n",
    "data_df = pd.DataFrame(data, columns=test.columns)\n",
    "pred_df = pd.DataFrame(pred, columns=test.columns)\n",
    "\n",
    "      \n",
    "alph = 0.8\n",
    "n_bins = 200\n",
    "for kk in np.arange(4):\n",
    "    plt.figure()\n",
    "    n_hist_data, bin_edges, _ = plt.hist(data[:, kk], color=colors[1], label='Input', alpha=1, bins=n_bins)\n",
    "    n_hist_pred, _, _ = plt.hist(pred[:, kk], color=colors[0], label='Output', alpha=alph, bins=bin_edges)\n",
    "    plt.suptitle(test.columns[kk])\n",
    "    plt.xlabel(test.columns[kk])\n",
    "    plt.ylabel('Number of events')\n",
    "    plt.yscale('log')\n",
    "    if save:\n",
    "        plt.savefig(os.path.join(save_dir,test.columns[kk]+'.png'))\n",
    "    plt.legend()"
   ]
  },
  {
   "cell_type": "markdown",
   "metadata": {},
   "source": [
    "#### Experimenting with Batch Normalization Layers\n",
    "We will modify the neural network and add Batch Normalization layers, which normalizes batches after layers. Basically, rather than normalizing  the values once  in the beginning, we normalize all  over the network.\n",
    "Batch Normalization helps in improving training time and decreases the time of convergence and the problem of vanishing gradients and acts as regularization too.\n"
   ]
  },
  {
   "cell_type": "code",
   "execution_count": 119,
   "metadata": {},
   "outputs": [
    {
     "data": {
      "text/plain": [
       "AE_3D_200_LeakyReLU_BatchNorm(\n",
       "  (encoder): Sequential(\n",
       "    (0): Linear(in_features=4, out_features=200, bias=True)\n",
       "    (1): BatchNorm1d(200, eps=1e-05, momentum=0.1, affine=True, track_running_stats=True)\n",
       "    (2): Tanh()\n",
       "    (3): Linear(in_features=200, out_features=200, bias=True)\n",
       "    (4): BatchNorm1d(200, eps=1e-05, momentum=0.1, affine=True, track_running_stats=True)\n",
       "    (5): Tanh()\n",
       "    (6): Linear(in_features=200, out_features=20, bias=True)\n",
       "    (7): BatchNorm1d(20, eps=1e-05, momentum=0.1, affine=True, track_running_stats=True)\n",
       "    (8): Tanh()\n",
       "    (9): Linear(in_features=20, out_features=3, bias=True)\n",
       "  )\n",
       "  (decoder): Sequential(\n",
       "    (0): Tanh()\n",
       "    (1): Linear(in_features=3, out_features=20, bias=True)\n",
       "    (2): BatchNorm1d(20, eps=1e-05, momentum=0.1, affine=True, track_running_stats=True)\n",
       "    (3): Tanh()\n",
       "    (4): Linear(in_features=20, out_features=200, bias=True)\n",
       "    (5): BatchNorm1d(200, eps=1e-05, momentum=0.1, affine=True, track_running_stats=True)\n",
       "    (6): Tanh()\n",
       "    (7): Linear(in_features=200, out_features=200, bias=True)\n",
       "    (8): BatchNorm1d(200, eps=1e-05, momentum=0.1, affine=True, track_running_stats=True)\n",
       "    (9): Tanh()\n",
       "    (10): Linear(in_features=200, out_features=4, bias=True)\n",
       "  )\n",
       ")"
      ]
     },
     "execution_count": 119,
     "metadata": {},
     "output_type": "execute_result"
    }
   ],
   "source": [
    "#Also modify the network by adding another layer each in encoder and decoder part\n",
    "    \n",
    "class AE_3D_200_LeakyReLU_BatchNorm(nn.Module):\n",
    "    def __init__(self, in_features=4):\n",
    "        super().__init__()\n",
    "        self.encoder = nn.Sequential(\n",
    "            nn.Linear(in_features, 200),\n",
    "            nn.BatchNorm1d(200),\n",
    "            nn.Tanh(),\n",
    "            nn.Linear(200, 200),\n",
    "            nn.BatchNorm1d(200),\n",
    "            nn.Tanh(),\n",
    "            nn.Linear(200, 20),\n",
    "            nn.BatchNorm1d(20),\n",
    "            nn.Tanh(),\n",
    "            nn.Linear(20, 3)\n",
    "        )\n",
    "\n",
    "        self.decoder = nn.Sequential(\n",
    "            nn.Tanh(),\n",
    "            nn.Linear(3, 20),\n",
    "            nn.BatchNorm1d(20),\n",
    "            nn.Tanh(),\n",
    "            nn.Linear(20, 200),\n",
    "            nn.BatchNorm1d(200),\n",
    "            nn.Tanh(),\n",
    "            nn.Linear(200, 200),\n",
    "            nn.BatchNorm1d(200),\n",
    "            nn.Tanh(),\n",
    "            nn.Linear(200, 4)\n",
    "        )\n",
    "\n",
    "    def forward(self, x):\n",
    "        encoded = self.encoder(x)\n",
    "        return self.decoder(encoded)\n",
    "\n",
    "    def describe(self):\n",
    "        return 'in-200-200-20-3-20-200-200-out'\n",
    "\n",
    "\n",
    "model = AE_3D_200_LeakyReLU_BatchNorm()\n",
    "model.to('cpu')"
   ]
  },
  {
   "cell_type": "code",
   "execution_count": 120,
   "metadata": {},
   "outputs": [],
   "source": [
    "from fastai.metrics import mse\n",
    "\n",
    "loss_func = nn.MSELoss()\n",
    "\n",
    "#bn_wd = False  # Don't use weight decay for batchnorm layers\n",
    "#true_wd = True  # weight decay will be used for all optimizers\n",
    "wd = 1e-6\n",
    "\n",
    "recorder = learner.Recorder()\n",
    "learn = learner.Learner(dls, model=model, wd=wd, loss_func=loss_func, cbs=recorder)\n"
   ]
  },
  {
   "cell_type": "code",
   "execution_count": 121,
   "metadata": {},
   "outputs": [
    {
     "name": "stdout",
     "output_type": "stream",
     "text": [
       "Learning rate with the minimum loss: 0.014454397559165954\n",
      "Learning rate with the steepest gradient: 0.00019054606673307717\n"
     ]
    },
    {
     "data": {
      "image/png": "[encoded data removed]",
      "text/plain": [
       "<Figure size 432x288 with 1 Axes>"
      ]
     },
     "metadata": {
      "needs_background": "light"
     },
     "output_type": "display_data"
    }
   ],
   "source": [
    "from fastai.callback import schedule\n",
    "\n",
    "lr_min, lr_steep = learn.lr_find()\n",
    "\n",
    "print('Learning rate with the minimum loss:', lr_min)\n",
    "print('Learning rate with the steepest gradient:', lr_steep)"
   ]
  },
  {
   "cell_type": "code",
   "execution_count": 122,
   "metadata": {},
   "outputs": [
    {
     "name": "stdout",
     "output_type": "stream",
     "text": [
      "[0, 0.21775107085704803, 0.17499542236328125, '00:01']\n",
      "[0, 0.21775107085704803, 0.17499542236328125, '00:01']\n",
      "[1, 0.1645754873752594, 0.12586620450019836, '00:01']\n",
      "[1, 0.1645754873752594, 0.12586620450019836, '00:01']\n",
      "[2, 0.11593128740787506, 0.07449547946453094, '00:01']\n",
      "[2, 0.11593128740787506, 0.07449547946453094, '00:01']\n",
      "[3, 0.07859086990356445, 0.04466214403510094, '00:01']\n",
      "[3, 0.07859086990356445, 0.04466214403510094, '00:01']\n",
      "[4, 0.05669284984469414, 0.03809429705142975, '00:01']\n",
      "[4, 0.05669284984469414, 0.03809429705142975, '00:01']\n",
      "[5, 0.04229244217276573, 0.02580605074763298, '00:01']\n",
      "[5, 0.04229244217276573, 0.02580605074763298, '00:01']\n",
      "[6, 0.0398433618247509, 0.030072493478655815, '00:01']\n",
      "[6, 0.0398433618247509, 0.030072493478655815, '00:01']\n",
      "[7, 0.03523135185241699, 0.027653032913804054, '00:01']\n",
      "[7, 0.03523135185241699, 0.027653032913804054, '00:01']\n",
      "[8, 0.03494010120630264, 0.029291443526744843, '00:01']\n",
      "[8, 0.03494010120630264, 0.029291443526744843, '00:01']\n",
      "[9, 0.03249502554535866, 0.01707259938120842, '00:01']\n",
      "[9, 0.03249502554535866, 0.01707259938120842, '00:01']\n",
      "[10, 0.030223073437809944, 0.04939436912536621, '00:01']\n",
      "[10, 0.030223073437809944, 0.04939436912536621, '00:01']\n",
      "[11, 0.03210824728012085, 0.021295417100191116, '00:01']\n",
      "[11, 0.03210824728012085, 0.021295417100191116, '00:01']\n",
      "[12, 0.03231319412589073, 0.04766291752457619, '00:01']\n",
      "[12, 0.03231319412589073, 0.04766291752457619, '00:01']\n",
      "[13, 0.03313034027814865, 0.04391654580831528, '00:01']\n",
      "[13, 0.03313034027814865, 0.04391654580831528, '00:01']\n",
      "[14, 0.031217513605952263, 0.04985356330871582, '00:01']\n",
      "[14, 0.031217513605952263, 0.04985356330871582, '00:01']\n",
      "[15, 0.03426799178123474, 0.02811683528125286, '00:01']\n",
      "[15, 0.03426799178123474, 0.02811683528125286, '00:01']\n",
      "[16, 0.0327792651951313, 0.02602873370051384, '00:01']\n",
      "[16, 0.0327792651951313, 0.02602873370051384, '00:01']\n",
      "[17, 0.035103973001241684, 0.07978497445583344, '00:01']\n",
      "[17, 0.035103973001241684, 0.07978497445583344, '00:01']\n",
      "[18, 0.03130827844142914, 0.033692680299282074, '00:01']\n",
      "[18, 0.03130827844142914, 0.033692680299282074, '00:01']\n",
      "[19, 0.03254375606775284, 0.04217025265097618, '00:01']\n",
      "[19, 0.03254375606775284, 0.04217025265097618, '00:01']\n",
      "[20, 0.03344900533556938, 0.027716374024748802, '00:01']\n",
      "[20, 0.03344900533556938, 0.027716374024748802, '00:01']\n",
      "[21, 0.028804589062929153, 0.02141273021697998, '00:01']\n",
      "[21, 0.028804589062929153, 0.02141273021697998, '00:01']\n",
      "[22, 0.029388543218374252, 0.023520344868302345, '00:01']\n",
      "[22, 0.029388543218374252, 0.023520344868302345, '00:01']\n",
      "[23, 0.027972515672445297, 0.032118216156959534, '00:01']\n",
      "[23, 0.027972515672445297, 0.032118216156959534, '00:01']\n",
      "[24, 0.02679622918367386, 0.02858220599591732, '00:01']\n",
      "[24, 0.02679622918367386, 0.02858220599591732, '00:01']\n",
      "[25, 0.027874724939465523, 0.03380057215690613, '00:01']\n",
      "[25, 0.027874724939465523, 0.03380057215690613, '00:01']\n",
      "[26, 0.02654760330915451, 0.03622693568468094, '00:01']\n",
      "[26, 0.02654760330915451, 0.03622693568468094, '00:01']\n",
      "[27, 0.025063922628760338, 0.014517461881041527, '00:01']\n",
      "[27, 0.025063922628760338, 0.014517461881041527, '00:01']\n",
      "[28, 0.02358166128396988, 0.012535152956843376, '00:01']\n",
      "[28, 0.02358166128396988, 0.012535152956843376, '00:01']\n",
      "[29, 0.025778867304325104, 0.03832721710205078, '00:01']\n",
      "[29, 0.025778867304325104, 0.03832721710205078, '00:01']\n",
      "[30, 0.023990310728549957, 0.024570276960730553, '00:01']\n",
      "[30, 0.023990310728549957, 0.024570276960730553, '00:01']\n",
      "[31, 0.019820384681224823, 0.01147245243191719, '00:01']\n",
      "[31, 0.019820384681224823, 0.01147245243191719, '00:01']\n",
      "[32, 0.01998371258378029, 0.027189264073967934, '00:01']\n",
      "[32, 0.01998371258378029, 0.027189264073967934, '00:01']\n",
      "[33, 0.02055172808468342, 0.023732662200927734, '00:01']\n",
      "[33, 0.02055172808468342, 0.023732662200927734, '00:01']\n",
      "[34, 0.02045450732111931, 0.026177553460001945, '00:01']\n",
      "[34, 0.02045450732111931, 0.026177553460001945, '00:01']\n",
      "[35, 0.02005309797823429, 0.019954701885581017, '00:01']\n",
      "[35, 0.02005309797823429, 0.019954701885581017, '00:01']\n",
      "[36, 0.01834113895893097, 0.019950145855545998, '00:01']\n",
      "[36, 0.01834113895893097, 0.019950145855545998, '00:01']\n",
      "[37, 0.018797781318426132, 0.01906384341418743, '00:01']\n",
      "[37, 0.018797781318426132, 0.01906384341418743, '00:01']\n",
      "[38, 0.016177034005522728, 0.023287730291485786, '00:01']\n",
      "[38, 0.016177034005522728, 0.023287730291485786, '00:01']\n",
      "[39, 0.018056992441415787, 0.027916109189391136, '00:01']\n",
      "[39, 0.018056992441415787, 0.027916109189391136, '00:01']\n",
      "[40, 0.017085187137126923, 0.01700097694993019, '00:01']\n",
      "[40, 0.017085187137126923, 0.01700097694993019, '00:01']\n",
      "[41, 0.015818744897842407, 0.00923673715442419, '00:01']\n",
      "[41, 0.015818744897842407, 0.00923673715442419, '00:01']\n",
      "[42, 0.016101490706205368, 0.013032577000558376, '00:01']\n",
      "[42, 0.016101490706205368, 0.013032577000558376, '00:01']\n",
      "[43, 0.017136039212346077, 0.015219847671687603, '00:01']\n",
      "[43, 0.017136039212346077, 0.015219847671687603, '00:01']\n",
      "[44, 0.016678286716341972, 0.016330987215042114, '00:01']\n",
      "[44, 0.016678286716341972, 0.016330987215042114, '00:01']\n",
      "[45, 0.01780652441084385, 0.02650686725974083, '00:01']\n",
      "[45, 0.01780652441084385, 0.02650686725974083, '00:01']\n",
      "[46, 0.01570364460349083, 0.014465421438217163, '00:01']\n",
      "[46, 0.01570364460349083, 0.014465421438217163, '00:01']\n",
      "[47, 0.01682954467833042, 0.020052824169397354, '00:02']\n",
      "[47, 0.01682954467833042, 0.020052824169397354, '00:02']\n",
      "[48, 0.014386555179953575, 0.006406701635569334, '00:01']\n",
      "[48, 0.014386555179953575, 0.006406701635569334, '00:01']\n",
      "[49, 0.014303036034107208, 0.0184312891215086, '00:01']\n",
      "[49, 0.014303036034107208, 0.0184312891215086, '00:01']\n",
      "[50, 0.013386838138103485, 0.006917352322489023, '00:01']\n",
      "[50, 0.013386838138103485, 0.006917352322489023, '00:01']\n",
      "[51, 0.011921675875782967, 0.01316538080573082, '00:01']\n",
      "[51, 0.011921675875782967, 0.01316538080573082, '00:01']\n",
      "[52, 0.012292608618736267, 0.011098573915660381, '00:01']\n",
      "[52, 0.012292608618736267, 0.011098573915660381, '00:01']\n",
      "[53, 0.012929541058838367, 0.031234923750162125, '00:01']\n",
      "[53, 0.012929541058838367, 0.031234923750162125, '00:01']\n",
      "[54, 0.012988519854843616, 0.010259423404932022, '00:01']\n",
      "[54, 0.012988519854843616, 0.010259423404932022, '00:01']\n",
      "[55, 0.013305657543241978, 0.003875156631693244, '00:01']\n",
      "[55, 0.013305657543241978, 0.003875156631693244, '00:01']\n",
      "[56, 0.012161975726485252, 0.00814837496727705, '00:01']\n",
      "[56, 0.012161975726485252, 0.00814837496727705, '00:01']\n",
      "[57, 0.01175809558480978, 0.010555004701018333, '00:01']\n",
      "[57, 0.01175809558480978, 0.010555004701018333, '00:01']\n",
      "[58, 0.01175711490213871, 0.0065795849077403545, '00:01']\n",
      "[58, 0.01175711490213871, 0.0065795849077403545, '00:01']\n",
      "[59, 0.010350193828344345, 0.0030417905654758215, '00:01']\n",
      "[59, 0.010350193828344345, 0.0030417905654758215, '00:01']\n",
      "[60, 0.009875155985355377, 0.012044265866279602, '00:01']\n",
      "[60, 0.009875155985355377, 0.012044265866279602, '00:01']\n",
      "[61, 0.009235089644789696, 0.004455586429685354, '00:01']\n",
      "[61, 0.009235089644789696, 0.004455586429685354, '00:01']\n",
      "[62, 0.009935526177287102, 0.0029260332230478525, '00:01']\n",
      "[62, 0.009935526177287102, 0.0029260332230478525, '00:01']\n",
      "[63, 0.010212347842752934, 0.004745537415146828, '00:01']\n",
      "[63, 0.010212347842752934, 0.004745537415146828, '00:01']\n",
      "[64, 0.01044250838458538, 0.007434213533997536, '00:01']\n",
      "[64, 0.01044250838458538, 0.007434213533997536, '00:01']\n",
      "[65, 0.011205743998289108, 0.008273029699921608, '00:01']\n",
      "[65, 0.011205743998289108, 0.008273029699921608, '00:01']\n",
      "[66, 0.010215593501925468, 0.004327144008129835, '00:01']\n",
      "[66, 0.010215593501925468, 0.004327144008129835, '00:01']\n",
      "[67, 0.009973407723009586, 0.00618673674762249, '00:01']\n",
      "[67, 0.009973407723009586, 0.00618673674762249, '00:01']\n",
      "[68, 0.009497038088738918, 0.003809723537415266, '00:01']\n",
      "[68, 0.009497038088738918, 0.003809723537415266, '00:01']\n",
      "[69, 0.008151406422257423, 0.003054804401472211, '00:01']\n",
      "[69, 0.008151406422257423, 0.003054804401472211, '00:01']\n",
      "[70, 0.008421984501183033, 0.0028800228610634804, '00:01']\n",
      "[70, 0.008421984501183033, 0.0028800228610634804, '00:01']\n",
      "[71, 0.009599060751497746, 0.0031223760452121496, '00:01']\n",
      "[71, 0.009599060751497746, 0.0031223760452121496, '00:01']\n"
     ]
    },
    {
     "name": "stdout",
     "output_type": "stream",
     "text": [
      "[72, 0.008055132813751698, 0.0068512484431266785, '00:01']\n",
      "[72, 0.008055132813751698, 0.0068512484431266785, '00:01']\n",
      "[73, 0.007514700293540955, 0.007346001919358969, '00:01']\n",
      "[73, 0.007514700293540955, 0.007346001919358969, '00:01']\n",
      "[74, 0.008352279663085938, 0.003728085896000266, '00:01']\n",
      "[74, 0.008352279663085938, 0.003728085896000266, '00:01']\n",
      "[75, 0.008003519847989082, 0.002347678178921342, '00:01']\n",
      "[75, 0.008003519847989082, 0.002347678178921342, '00:01']\n",
      "[76, 0.0076185488142073154, 0.0046158055774867535, '00:01']\n",
      "[76, 0.0076185488142073154, 0.0046158055774867535, '00:01']\n",
      "[77, 0.008533361367881298, 0.0028239302337169647, '00:01']\n",
      "[77, 0.008533361367881298, 0.0028239302337169647, '00:01']\n",
      "[78, 0.006524236407130957, 0.0024659086484462023, '00:01']\n",
      "[78, 0.006524236407130957, 0.0024659086484462023, '00:01']\n",
      "[79, 0.007281423546373844, 0.0017421713564544916, '00:01']\n",
      "[79, 0.007281423546373844, 0.0017421713564544916, '00:01']\n",
      "[80, 0.006553272251039743, 0.0012971304822713137, '00:01']\n",
      "[80, 0.006553272251039743, 0.0012971304822713137, '00:01']\n",
      "[81, 0.006459798663854599, 0.0009810590418055654, '00:01']\n",
      "[81, 0.006459798663854599, 0.0009810590418055654, '00:01']\n",
      "[82, 0.006108442321419716, 0.0017803681548684835, '00:01']\n",
      "[82, 0.006108442321419716, 0.0017803681548684835, '00:01']\n",
      "[83, 0.006899124011397362, 0.0009437601547688246, '00:01']\n",
      "[83, 0.006899124011397362, 0.0009437601547688246, '00:01']\n",
      "[84, 0.006644183304160833, 0.000859803578350693, '00:01']\n",
      "[84, 0.006644183304160833, 0.000859803578350693, '00:01']\n",
      "[85, 0.007085744291543961, 0.00115220679435879, '00:01']\n",
      "[85, 0.007085744291543961, 0.00115220679435879, '00:01']\n",
      "[86, 0.0064314063638448715, 0.0016296972753480077, '00:01']\n",
      "[86, 0.0064314063638448715, 0.0016296972753480077, '00:01']\n",
      "[87, 0.006144164130091667, 0.0008658277220092714, '00:01']\n",
      "[87, 0.006144164130091667, 0.0008658277220092714, '00:01']\n",
      "[88, 0.005983993876725435, 0.0006766344304196537, '00:01']\n",
      "[88, 0.005983993876725435, 0.0006766344304196537, '00:01']\n",
      "[89, 0.006230942439287901, 0.0013685586163774133, '00:01']\n",
      "[89, 0.006230942439287901, 0.0013685586163774133, '00:01']\n",
      "[90, 0.0048207431100308895, 0.0005117897526361048, '00:01']\n",
      "[90, 0.0048207431100308895, 0.0005117897526361048, '00:01']\n",
      "[91, 0.005831007845699787, 0.0007443435024470091, '00:01']\n",
      "[91, 0.005831007845699787, 0.0007443435024470091, '00:01']\n",
      "[92, 0.00499162869527936, 0.0005882565164938569, '00:01']\n",
      "[92, 0.00499162869527936, 0.0005882565164938569, '00:01']\n",
      "[93, 0.005029684863984585, 0.0005869932356290519, '00:01']\n",
      "[93, 0.005029684863984585, 0.0005869932356290519, '00:01']\n",
      "[94, 0.005028219893574715, 0.0006904779584147036, '00:01']\n",
      "[94, 0.005028219893574715, 0.0006904779584147036, '00:01']\n",
      "[95, 0.004461657255887985, 0.0005660453462041914, '00:01']\n",
      "[95, 0.004461657255887985, 0.0005660453462041914, '00:01']\n",
      "[96, 0.004536909982562065, 0.0004885744419880211, '00:01']\n",
      "[96, 0.004536909982562065, 0.0004885744419880211, '00:01']\n",
      "[97, 0.0048974379897117615, 0.0004410866240505129, '00:01']\n",
      "[97, 0.0048974379897117615, 0.0004410866240505129, '00:01']\n",
      "[98, 0.005051968153566122, 0.0004591778269968927, '00:01']\n",
      "[98, 0.005051968153566122, 0.0004591778269968927, '00:01']\n",
      "[99, 0.004338438622653484, 0.0004659132391680032, '00:01']\n",
      "[99, 0.004338438622653484, 0.0004659132391680032, '00:01']\n",
      "Training took 160.24973669199971 seconds\n"
     ]
    }
   ],
   "source": [
    "import time\n",
    "\n",
    "start = time.perf_counter() # Starts timer\n",
    "learn.fit_one_cycle(100,lr_min)\n",
    "end = time.perf_counter() # Ends timer\n",
    "delta_t = end - start\n",
    "print('Training took', delta_t, 'seconds')"
   ]
  },
  {
   "cell_type": "code",
   "execution_count": 123,
   "metadata": {},
   "outputs": [
    {
     "data": {
      "image/png": "[encoded data removed]",
      "text/plain": [
       "<Figure size 432x288 with 1 Axes>"
      ]
     },
     "metadata": {
      "needs_background": "light"
     },
     "output_type": "display_data"
    }
   ],
   "source": [
    "recorder.plot_loss()\n"
   ]
  },
  {
   "cell_type": "code",
   "execution_count": 124,
   "metadata": {},
   "outputs": [
    {
     "data": {
      "text/plain": [
       "(#1) [0.0004659132391680032]"
      ]
     },
     "execution_count": 124,
     "metadata": {},
     "output_type": "execute_result"
    }
   ],
   "source": [
    "learn.validate()"
   ]
  },
  {
   "cell_type": "code",
   "execution_count": 100,
   "metadata": {},
   "outputs": [
    {
     "data": {
      "image/png": "[encoded data removed]",
      "text/plain": [
       "<Figure size 432x288 with 1 Axes>"
      ]
     },
     "metadata": {
      "needs_background": "light"
     },
     "output_type": "display_data"
    },
    {
     "data": {
      "image/png": "[encoded data removed]",
      "text/plain": [
       "<Figure size 432x288 with 1 Axes>"
      ]
     },
     "metadata": {
      "needs_background": "light"
     },
     "output_type": "display_data"
    },
    {
     "data": {
      "image/png": "[encoded data removed]",
      "text/plain": [
       "<Figure size 432x288 with 1 Axes>"
      ]
     },
     "metadata": {
      "needs_background": "light"
     },
     "output_type": "display_data"
    },
    {
     "data": {
      "image/png": "[encoded data removed]",
      "text/plain": [
       "<Figure size 432x288 with 1 Axes>"
      ]
     },
     "metadata": {
      "needs_background": "light"
     },
     "output_type": "display_data"
    }
   ],
   "source": [
    "\n",
    "plt.close('all')\n",
    "unit_list = ['[log(GeV)]', '[log(GeV)]', '[rad/3]', '[rad/3]']\n",
    "variable_list = [r'$E$', r'$p_T$', r'$\\eta$', r'$\\phi$']\n",
    "line_style = ['--', '-']\n",
    "colors = ['orange', 'c']\n",
    "markers = ['*', 's']\n",
    "\n",
    "model.to('cpu')\n",
    "\n",
    "save = False # Option to save figure\n",
    "\n",
    "# Histograms\n",
    "idxs = (0, 100000)  # Choose events to compare\n",
    "data = torch.tensor(test_data[idxs[0]:idxs[1]].values, dtype=torch.float)\n",
    "pred = model(data)\n",
    "pred = pred.detach().numpy()\n",
    "data = data.detach().numpy()\n",
    "\n",
    "data_df = pd.DataFrame(data, columns=test.columns)\n",
    "pred_df = pd.DataFrame(pred, columns=test.columns)\n",
    "\n",
    "      \n",
    "alph = 0.8\n",
    "n_bins = 200\n",
    "for kk in np.arange(4):\n",
    "    plt.figure()\n",
    "    n_hist_data, bin_edges, _ = plt.hist(data[:, kk], color=colors[1], label='Input', alpha=1, bins=n_bins)\n",
    "    n_hist_pred, _, _ = plt.hist(pred[:, kk], color=colors[0], label='Output', alpha=alph, bins=bin_edges)\n",
    "    plt.suptitle(test.columns[kk])\n",
    "    plt.xlabel(test.columns[kk])\n",
    "    plt.ylabel('Number of events')\n",
    "    plt.yscale('log')\n",
    "    if save:\n",
    "        plt.savefig(os.path.join(save_dir,test.columns[kk]+'.png'))\n",
    "    plt.legend()"
   ]
  },
  {
   "cell_type": "code",
   "execution_count": null,
   "metadata": {},
   "outputs": [],
   "source": []
  }
 ],
 "metadata": {
  "kernelspec": {
   "display_name": "Python 3",
   "language": "python",
   "name": "python3"
  },
  "language_info": {
   "codemirror_mode": {
    "name": "ipython",
    "version": 3
   },
   "file_extension": ".py",
   "mimetype": "text/x-python",
   "name": "python",
   "nbconvert_exporter": "python",
   "pygments_lexer": "ipython3",
   "version": "3.8.5"
  }
 },
 "nbformat": 4,
 "nbformat_minor": 4
}
